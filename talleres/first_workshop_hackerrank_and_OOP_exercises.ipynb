{
 "cells": [
  {
   "cell_type": "markdown",
   "id": "e968872e",
   "metadata": {},
   "source": [
    "# ! Importante:\n",
    "1. Version de Python utilizada: 3.12.3"
   ]
  },
  {
   "cell_type": "markdown",
   "id": "643010a7",
   "metadata": {},
   "source": [
    "# Juego de dados secretos:\n",
    "1. Existen N jugadores, cada uno con 5 dados de 6 lados.\n",
    "2. Cada jugador revuelve sus dados y los tira, cada uno puede ver su propio resultado pero no el de los demás.\n",
    "3. Es el turno de un jugador, este debe debe decir cuántos dados con qué número hay en la mesa y retar a otro jugador.\n",
    "4. El jugador retado debe decir si lo que dice el jugador anterior es falso o si puede ser verdadero e incluso un puede haber un número superior de dados del mismo valor.\n",
    "5. Su código debe simular este escenario y calcular la probabilidad de que el jugador retante esté diciendo algo falso. Debe realizar una función que reciba una estimación y calcule la probabilidad de falso."
   ]
  },
  {
   "cell_type": "code",
   "execution_count": 1,
   "id": "3695c43c",
   "metadata": {},
   "outputs": [],
   "source": [
    "import random"
   ]
  },
  {
   "cell_type": "code",
   "execution_count": null,
   "id": "dec9350e",
   "metadata": {},
   "outputs": [],
   "source": [
    "class Dice:\n",
    "    def __init__(self,number_of_sides):\n",
    "        self.number_of_sides = number_of_sides\n",
    "        self.sides = [n for n in range(1,self.number_of_sides+1)]\n",
    "        self.selected_side = 0\n",
    "    \n",
    "    def randomlySelectSide(self):\n",
    "        self.selected_side = random.randint(1,self.number_of_sides)\n",
    "        "
   ]
  },
  {
   "cell_type": "code",
   "execution_count": null,
   "id": "1cd6ce34",
   "metadata": {},
   "outputs": [],
   "source": [
    "class Player:\n",
    "    def __init__(self, name, number_of_dices):\n",
    "        self.name = name\n",
    "        self.number_of_dices = number_of_dices\n",
    "        self.dices = [Dice(6) for n in range(number_of_dices)]\n",
    "        self.countedDiceValues = {}\n",
    "    \n",
    "    def shuffleAndThrow(self):\n",
    "        for dice in self.dices:\n",
    "            dice.randomlySelectSide()\n",
    "    \n",
    "    def countDiceValues(self):\n",
    "         for dice in self.dices:\n",
    "            self.countedDiceValues[dice.selected_side] = self.countedDiceValues.get(dice.selected_side, 0) + 1\n",
    "    \n",
    "    def makePrediction(self):\n",
    "        selectedNumber = random.choice(list(self.countedDiceValues.keys()))\n",
    "        randomEstimation = random.randint(0,10)\n",
    "        return {selectedNumber:self.countedDiceValues.get(selectedNumber)+randomEstimation}\n",
    "            "
   ]
  },
  {
   "cell_type": "code",
   "execution_count": 19,
   "id": "98f52ed7",
   "metadata": {},
   "outputs": [
    {
     "name": "stdout",
     "output_type": "stream",
     "text": [
      "{3: 11}\n"
     ]
    }
   ],
   "source": [
    "juan = Player('Juan',5)\n",
    "juan.shuffleAndThrow()\n",
    "juan.countDiceValues()\n",
    "print(juan.makePrediction())    \n",
    "        "
   ]
  }
 ],
 "metadata": {
  "kernelspec": {
   "display_name": "base",
   "language": "python",
   "name": "python3"
  },
  "language_info": {
   "codemirror_mode": {
    "name": "ipython",
    "version": 3
   },
   "file_extension": ".py",
   "mimetype": "text/x-python",
   "name": "python",
   "nbconvert_exporter": "python",
   "pygments_lexer": "ipython3",
   "version": "3.12.3"
  }
 },
 "nbformat": 4,
 "nbformat_minor": 5
}
