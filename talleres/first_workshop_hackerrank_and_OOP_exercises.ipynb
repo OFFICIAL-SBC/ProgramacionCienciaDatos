{
 "cells": [
  {
   "cell_type": "markdown",
   "id": "e968872e",
   "metadata": {},
   "source": [
    "# ! Importante:\n",
    "1. Version de Python utilizada: 3.12.3"
   ]
  },
  {
   "cell_type": "markdown",
   "id": "643010a7",
   "metadata": {},
   "source": [
    "# Juego de dados secretos:\n",
    "1. Existen N jugadores, cada uno con 5 dados de 6 lados.\n",
    "2. Cada jugador revuelve sus dados y los tira, cada uno puede ver su propio resultado pero no el de los demás.\n",
    "3. Es el turno de un jugador, este debe debe decir cuántos dados con qué número hay en la mesa y retar a otro jugador.\n",
    "4. El jugador retado debe decir si lo que dice el jugador anterior es falso o si puede ser verdadero e incluso un puede haber un número superior de dados del mismo valor.\n",
    "5. Su código debe simular este escenario y calcular la probabilidad de que el jugador retante esté diciendo algo falso. Debe realizar una función que reciba una estimación y calcule la probabilidad de falso."
   ]
  },
  {
   "cell_type": "code",
   "execution_count": 16,
   "id": "3695c43c",
   "metadata": {},
   "outputs": [],
   "source": [
    "import random"
   ]
  },
  {
   "cell_type": "code",
   "execution_count": 17,
   "id": "cc84eda8",
   "metadata": {},
   "outputs": [],
   "source": [
    "# Forms to calculate the Polynomial probability\n",
    "def factorialOperation(number):\n",
    "    if(number <= 1 ):\n",
    "        return number\n",
    "    else:\n",
    "        return factorialOperation(number-1)*number\n",
    "    \n",
    "def combinatorics(n,k):\n",
    "    return factorialOperation(n)//(factorialOperation(k)*factorialOperation(n-k))\n",
    "\n",
    "def binomialProbability(n,k,p):\n",
    "    q = 1 - p\n",
    "    return combinatorics(n,k)*(p**k)*(q**(n-k))\n",
    "\n",
    "def summationBinomialProbability(n,k,p):\n",
    "    accumulator  =0\n",
    "    for k_i in range(1,k+1):\n",
    "        accumulator += binomialProbability(n,k_i,p)\n",
    "    return accumulator\n",
    "    "
   ]
  },
  {
   "cell_type": "code",
   "execution_count": 18,
   "id": "dec9350e",
   "metadata": {},
   "outputs": [],
   "source": [
    "class Dice:\n",
    "    def __init__(self,number_of_sides):\n",
    "        self.number_of_sides = number_of_sides\n",
    "        self.sides = [n for n in range(1,self.number_of_sides+1)]\n",
    "        self.selected_side = 0\n",
    "    \n",
    "    def randomlySelectSide(self):\n",
    "        self.selected_side = random.randint(1,self.number_of_sides)\n",
    "        "
   ]
  },
  {
   "cell_type": "code",
   "execution_count": 19,
   "id": "1cd6ce34",
   "metadata": {},
   "outputs": [],
   "source": [
    "class Player:\n",
    "    def __init__(self, name, number_of_dices):\n",
    "        self.name = name\n",
    "        self.number_of_dices = number_of_dices\n",
    "        self.dices = [Dice(6) for n in range(number_of_dices)]\n",
    "        self.countedDiceValues = {}\n",
    "        self.predictions = {}\n",
    "    \n",
    "    def shuffleAndThrow(self):\n",
    "        for dice in self.dices:\n",
    "            dice.randomlySelectSide()\n",
    "    \n",
    "    def countDiceValues(self):\n",
    "         for dice in self.dices:\n",
    "            self.countedDiceValues[dice.selected_side] = self.countedDiceValues.get(dice.selected_side, 0) + 1\n",
    "    \n",
    "    def makePrediction(self):\n",
    "        selectedNumber = random.choice(list(self.countedDiceValues.keys()))\n",
    "        randomEstimation = random.randint(0,5)\n",
    "        self.predictions = {selectedNumber:self.countedDiceValues.get(selectedNumber)+randomEstimation}\n",
    "            "
   ]
  },
  {
   "cell_type": "code",
   "execution_count": 27,
   "id": "98f52ed7",
   "metadata": {},
   "outputs": [],
   "source": [
    "class Game:\n",
    "    def __init__(self,number_of_players):\n",
    "        self.number_of_players = number_of_players\n",
    "        self.players = [Player(f'Player {n+1}',5) for n in range(number_of_players)]\n",
    "        self.challengedPlayer=0\n",
    "        self.challengerPlayer=0\n",
    "    \n",
    "    def startGame(self):\n",
    "        for player in self.players:\n",
    "            player.shuffleAndThrow()\n",
    "            player.countDiceValues()\n",
    "            player.makePrediction()\n",
    "\n",
    "\n",
    "    def randomlySelectPlayers(self):\n",
    "        # Select two distinct player indices from the list of players\n",
    "        #So one player is the challenger and the other one is the challenged\n",
    "        self.challengerPlayer, self.challengedPlayer = random.sample(range(len(self.players)), 2)\n",
    "    \n",
    "    def calculateProbability(self):\n",
    "        \"\"\"\n",
    "            Computes the probability that the challenger is WRONG.\n",
    "            - The challenger predicts a total count of a face across all players.\n",
    "            - The challenged player knows how many of that face he already has.\n",
    "            - Unknown dices = everyone else's dices.\n",
    "            - We need P(unknown dice produce at least the remaining needed successes).\n",
    "        \"\"\"\n",
    "        number_of_unknown_dices = (self.number_of_players - 1)*5\n",
    "        \n",
    "        predicted_face, predicted_count = next(iter(self.players[self.challengerPlayer].predictions.items()))\n",
    "        \n",
    "        remaining_number_of_dices_for_the_prediction_to_be_true = predicted_count - self.players[self.challengedPlayer].countedDiceValues.get(predicted_face, 0)\n",
    "        \n",
    "        probability = summationBinomialProbability(number_of_unknown_dices,remaining_number_of_dices_for_the_prediction_to_be_true,1/6)\n",
    "        \n",
    "        print(f\"Challenger Player ({self.players[self.challengerPlayer].name}): There are at least {predicted_count} dices showing {predicted_face} in the table\")\n",
    "        \n",
    "        print(f'\"Challenged Player ({self.players[self.challengedPlayer].name}): The probability of the player {self.players[self.challengerPlayer].name} to be wrong is {1-probability:.4f}')\n",
    "        \n",
    "        "
   ]
  },
  {
   "cell_type": "code",
   "execution_count": 28,
   "id": "ba515afd",
   "metadata": {},
   "outputs": [
    {
     "name": "stdout",
     "output_type": "stream",
     "text": [
      "Challenger Player (Player 3): There are at least 1 dices showing 4 in the table\n",
      "\"Challenged Player (Player 2): The probability of the player Player 3 to be wrong is 0.6770\n"
     ]
    }
   ],
   "source": [
    "game = Game(3)\n",
    "game.startGame()\n",
    "game.randomlySelectPlayers()\n",
    "game.calculateProbability()"
   ]
  },
  {
   "cell_type": "markdown",
   "id": "216a78b3",
   "metadata": {},
   "source": [
    "# Hacker Rank Exercises 🎽♟️"
   ]
  },
  {
   "cell_type": "markdown",
   "id": "ea23cfbc",
   "metadata": {},
   "source": [
    "# Exercise Number 10 of the list 🔨 - Mini-Max Sum"
   ]
  },
  {
   "cell_type": "markdown",
   "id": "0438ce20",
   "metadata": {},
   "source": [
    "# Problem Statement\n",
    "\n",
    "Given five positive integers, find the **minimum** and **maximum**\n",
    "values that can be calculated by summing exactly four of the five\n",
    "integers.\\\n",
    "Then print the respective minimum and maximum values as a single line of\n",
    "two space-separated long integers.\n",
    "\n",
    "------------------------------------------------------------------------\n",
    "\n",
    "## Example\n",
    "\n",
    "The minimum sum is `16` and the maximum sum is `24`.\\\n",
    "The function prints:\n",
    "\n",
    "    16 24\n",
    "\n",
    "------------------------------------------------------------------------\n",
    "\n",
    "## Function Description\n",
    "\n",
    "Complete the function with the following parameter(s):\n",
    "\n",
    "-   **Parameters**: an array of `5` integers\n",
    "\n",
    "-   **Print**: two space-separated integers on one line: the **minimum\n",
    "    sum** and the **maximum sum** of `4 of 5` elements.\\\n",
    "    No value should be returned.\n",
    "\n",
    "> **Note**: For some languages like C, C++, and Java, the sums may\n",
    "> require using a **long integer** due to their size.\n",
    "\n",
    "------------------------------------------------------------------------\n",
    "\n",
    "## Input Format\n",
    "\n",
    "A single line of **five space-separated integers**.\n",
    "\n",
    "------------------------------------------------------------------------\n",
    "\n",
    "## Constraints\n",
    "\n",
    "    Each integer is positive.\n",
    "\n",
    "------------------------------------------------------------------------\n",
    "\n",
    "## Sample Input\n",
    "\n",
    "    1 2 3 4 5\n",
    "\n",
    "## Sample Output\n",
    "\n",
    "    10 14\n",
    "\n",
    "------------------------------------------------------------------------\n",
    "\n",
    "## Explanation\n",
    "\n",
    "The numbers are `1, 2, 3, 4, 5`.\\\n",
    "Calculate the following sums using four of the five integers:\n",
    "\n",
    "-   Sum everything except `1`: **2 + 3 + 4 + 5 = 14**\n",
    "\n",
    "-   Sum everything except `2`: **1 + 3 + 4 + 5 = 13**\n",
    "\n",
    "-   Sum everything except `3`: **1 + 2 + 4 + 5 = 12**\n",
    "\n",
    "-   Sum everything except `4`: **1 + 2 + 3 + 5 = 11**\n",
    "\n",
    "-   Sum everything except `5`: **1 + 2 + 3 + 4 = 10**\n",
    "\n",
    "-   **Minimum sum = 10**\\\n",
    "\n",
    "-   **Maximum sum = 14**"
   ]
  },
  {
   "cell_type": "code",
   "execution_count": 30,
   "id": "152735c1",
   "metadata": {},
   "outputs": [],
   "source": [
    "def miniMaxSum(arr):\n",
    "    # Write your code here\n",
    "    result = sorted(arr)\n",
    "    max_value = 0\n",
    "    min_value = 0\n",
    "    for number in range(len(result)-1):\n",
    "        min_value += result[number]\n",
    "        \n",
    "    for number in range(1,len(result)):\n",
    "        max_value += result[number]\n",
    "        \n",
    "    print(f'{min_value} {max_value}') \n",
    "    "
   ]
  },
  {
   "cell_type": "code",
   "execution_count": 31,
   "id": "44ae840d",
   "metadata": {},
   "outputs": [
    {
     "name": "stdout",
     "output_type": "stream",
     "text": [
      "10 14\n"
     ]
    }
   ],
   "source": [
    "arr = [1, 2,3,4,5]\n",
    "miniMaxSum(arr)"
   ]
  },
  {
   "cell_type": "markdown",
   "id": "918c65d6",
   "metadata": {},
   "source": [
    "# Exercise Number 6 of the list 💬 - Pangrams"
   ]
  },
  {
   "cell_type": "markdown",
   "id": "a7a223ed",
   "metadata": {},
   "source": [
    "# Problem Statement\n",
    "\n",
    "A **pangram** is a string that contains every letter of the alphabet.\\\n",
    "Given a sentence, determine whether it is a pangram in the English\n",
    "alphabet.\\\n",
    "Ignore case. Return either `pangram` or `not pangram` as appropriate.\n",
    "\n",
    "------------------------------------------------------------------------\n",
    "\n",
    "## Example\n",
    "\n",
    "The string contains all letters in the English alphabet, so return:\n",
    "\n",
    "    pangram\n",
    "\n",
    "------------------------------------------------------------------------\n",
    "\n",
    "## Function Description\n",
    "\n",
    "Complete the function `pangrams` in the editor below.\\\n",
    "It should return the string `pangram` if the input string is a pangram.\\\n",
    "Otherwise, it should return `not pangram`.\n",
    "\n",
    "### Parameters\n",
    "\n",
    "-   **string s**: a string to test\n",
    "\n",
    "### Returns\n",
    "\n",
    "-   **string**: either `pangram` or `not pangram`\n",
    "\n",
    "------------------------------------------------------------------------\n",
    "\n",
    "## Input Format\n",
    "\n",
    "A single line with string `s`.\n",
    "\n",
    "------------------------------------------------------------------------\n",
    "\n",
    "## Constraints\n",
    "\n",
    "    Each character of s is either a letter or a space.\n",
    "\n",
    "------------------------------------------------------------------------\n",
    "\n",
    "## Sample Input 0\n",
    "\n",
    "    We promptly judged antique ivory buckles for the next prize\n",
    "\n",
    "## Sample Output 0\n",
    "\n",
    "    pangram\n",
    "\n",
    "### Explanation 0\n",
    "\n",
    "All of the letters of the alphabet are present in the string.\n",
    "\n",
    "------------------------------------------------------------------------\n",
    "\n",
    "## Sample Input 1\n",
    "\n",
    "    We promptly judged antique ivory buckles for the prize\n",
    "\n",
    "## Sample Output 1\n",
    "\n",
    "    not pangram\n",
    "\n",
    "### Explanation 1\n",
    "\n",
    "The string lacks an `x`.\n"
   ]
  },
  {
   "cell_type": "code",
   "execution_count": 34,
   "id": "e71e1310",
   "metadata": {},
   "outputs": [],
   "source": [
    "def pangrams(s):\n",
    "    # Write your code here\n",
    "    text_set = set(s.lower().replace(\" \",\"\"))\n",
    "    \n",
    "    if(len(text_set)== 26):\n",
    "        return \"pangram\"\n",
    "    else:\n",
    "        return \"not pangram\""
   ]
  },
  {
   "cell_type": "code",
   "execution_count": 35,
   "id": "cc649ce1",
   "metadata": {},
   "outputs": [],
   "source": [
    "example = 'The quick brown fox jumps over the lazy dog'"
   ]
  },
  {
   "cell_type": "code",
   "execution_count": 37,
   "id": "ed5ae499",
   "metadata": {},
   "outputs": [
    {
     "data": {
      "text/plain": [
       "'pangram'"
      ]
     },
     "execution_count": 37,
     "metadata": {},
     "output_type": "execute_result"
    }
   ],
   "source": [
    "pangrams(example)"
   ]
  },
  {
   "cell_type": "code",
   "execution_count": 38,
   "id": "834ed414",
   "metadata": {},
   "outputs": [],
   "source": [
    "example = 'The quick brown fox '"
   ]
  },
  {
   "cell_type": "code",
   "execution_count": 39,
   "id": "9919a374",
   "metadata": {},
   "outputs": [
    {
     "data": {
      "text/plain": [
       "'not pangram'"
      ]
     },
     "execution_count": 39,
     "metadata": {},
     "output_type": "execute_result"
    }
   ],
   "source": [
    "pangrams(example)"
   ]
  }
 ],
 "metadata": {
  "kernelspec": {
   "display_name": "base",
   "language": "python",
   "name": "python3"
  },
  "language_info": {
   "codemirror_mode": {
    "name": "ipython",
    "version": 3
   },
   "file_extension": ".py",
   "mimetype": "text/x-python",
   "name": "python",
   "nbconvert_exporter": "python",
   "pygments_lexer": "ipython3",
   "version": "3.12.3"
  }
 },
 "nbformat": 4,
 "nbformat_minor": 5
}
