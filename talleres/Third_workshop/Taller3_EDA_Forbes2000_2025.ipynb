{
 "cells": [
  {
   "cell_type": "markdown",
   "id": "18688406",
   "metadata": {},
   "source": [
    "# Taller 3: Exploratory Data Analysis (EDA)\n",
    "\n",
    "**Dataset:** Forbes Global 2000 (2025)  \n",
    "**Archivo:** `Forbes_2000_Companies_2025.csv`  \n",
    "**Generado:** 2025-09-03 00:02:11\n",
    "\n",
    "Este cuaderno realiza un EDA completo siguiendo los pasos solicitados.\n"
   ]
  },
  {
   "cell_type": "markdown",
   "id": "116d5bcb",
   "metadata": {},
   "source": [
    "## 1. Entender la necesidad\n",
    "\n",
    "**Objetivo:** Comprender los factores asociados al tamaño y desempeño financiero de las compañías del ranking Forbes Global 2000 (2025).  \n",
    "Preguntas guía:\n",
    "- ¿Cómo se distribuyen las métricas financieras clave?  \n",
    "- ¿Qué países e industrias concentran más compañías y mayor valor?\n",
    "- ¿Qué relaciones existen entre variables financieras?\n",
    "- ¿Qué métricas derivadas ayudan a interpretar el desempeño?\n"
   ]
  },
  {
   "cell_type": "markdown",
   "id": "d7d1965e",
   "metadata": {},
   "source": [
    "## 2. Descargar y abrir los datos\n",
    "\n",
    "El archivo CSV ya está disponible localmente. Se carga con **pandas**.\n"
   ]
  },
  {
   "cell_type": "code",
   "execution_count": 1,
   "id": "0057f98b",
   "metadata": {},
   "outputs": [],
   "source": [
    "import pandas as pd\n",
    "import numpy as np\n",
    "import matplotlib.pyplot as plt"
   ]
  },
  {
   "cell_type": "code",
   "execution_count": 2,
   "id": "c6c59b74",
   "metadata": {},
   "outputs": [
    {
     "data": {
      "application/vnd.microsoft.datawrangler.viewer.v0+json": {
       "columns": [
        {
         "name": "index",
         "rawType": "int64",
         "type": "integer"
        },
        {
         "name": "Rank",
         "rawType": "int64",
         "type": "integer"
        },
        {
         "name": "Company",
         "rawType": "object",
         "type": "string"
        },
        {
         "name": "Headquarters",
         "rawType": "object",
         "type": "string"
        },
        {
         "name": "Industry",
         "rawType": "object",
         "type": "string"
        },
        {
         "name": "Sales ($B)",
         "rawType": "float64",
         "type": "float"
        },
        {
         "name": "Profit ($B)",
         "rawType": "object",
         "type": "string"
        },
        {
         "name": "Assets ($B)",
         "rawType": "object",
         "type": "string"
        },
        {
         "name": "Market Value ($B)",
         "rawType": "object",
         "type": "string"
        }
       ],
       "ref": "46638338-b8a9-40a1-9143-14d0b9e0fc72",
       "rows": [
        [
         "0",
         "1",
         "JPMorganChase",
         "United States",
         "Banking",
         "285.11",
         "59.36 ",
         "4,357.86 ",
         "677.8 "
        ],
        [
         "1",
         "2",
         "Berkshire Hathaway",
         "United States",
         "Insurance",
         "371.43",
         "89",
         "1,153.88 ",
         "1,145.46 "
        ],
        [
         "2",
         "3",
         "ICBC",
         "China",
         "Banking",
         "221.96",
         "50.84 ",
         "6,688.6 ",
         "251.33 "
        ],
        [
         "3",
         "4",
         "Saudi Arabian Oil Company (Saudi Aramco)",
         "Saudi Arabia",
         "Oil & Gas Operations",
         "480.15",
         "104.97 ",
         "645.03 ",
         "1,663.38 "
        ],
        [
         "4",
         "5",
         "Amazon",
         "United States",
         "Retail and Wholesale",
         "637.96",
         "59.25 ",
         "624.89 ",
         "2,005.64 "
        ]
       ],
       "shape": {
        "columns": 8,
        "rows": 5
       }
      },
      "text/html": [
       "<div>\n",
       "<style scoped>\n",
       "    .dataframe tbody tr th:only-of-type {\n",
       "        vertical-align: middle;\n",
       "    }\n",
       "\n",
       "    .dataframe tbody tr th {\n",
       "        vertical-align: top;\n",
       "    }\n",
       "\n",
       "    .dataframe thead th {\n",
       "        text-align: right;\n",
       "    }\n",
       "</style>\n",
       "<table border=\"1\" class=\"dataframe\">\n",
       "  <thead>\n",
       "    <tr style=\"text-align: right;\">\n",
       "      <th></th>\n",
       "      <th>Rank</th>\n",
       "      <th>Company</th>\n",
       "      <th>Headquarters</th>\n",
       "      <th>Industry</th>\n",
       "      <th>Sales ($B)</th>\n",
       "      <th>Profit ($B)</th>\n",
       "      <th>Assets ($B)</th>\n",
       "      <th>Market Value ($B)</th>\n",
       "    </tr>\n",
       "  </thead>\n",
       "  <tbody>\n",
       "    <tr>\n",
       "      <th>0</th>\n",
       "      <td>1</td>\n",
       "      <td>JPMorganChase</td>\n",
       "      <td>United States</td>\n",
       "      <td>Banking</td>\n",
       "      <td>285.11</td>\n",
       "      <td>59.36</td>\n",
       "      <td>4,357.86</td>\n",
       "      <td>677.8</td>\n",
       "    </tr>\n",
       "    <tr>\n",
       "      <th>1</th>\n",
       "      <td>2</td>\n",
       "      <td>Berkshire Hathaway</td>\n",
       "      <td>United States</td>\n",
       "      <td>Insurance</td>\n",
       "      <td>371.43</td>\n",
       "      <td>89</td>\n",
       "      <td>1,153.88</td>\n",
       "      <td>1,145.46</td>\n",
       "    </tr>\n",
       "    <tr>\n",
       "      <th>2</th>\n",
       "      <td>3</td>\n",
       "      <td>ICBC</td>\n",
       "      <td>China</td>\n",
       "      <td>Banking</td>\n",
       "      <td>221.96</td>\n",
       "      <td>50.84</td>\n",
       "      <td>6,688.6</td>\n",
       "      <td>251.33</td>\n",
       "    </tr>\n",
       "    <tr>\n",
       "      <th>3</th>\n",
       "      <td>4</td>\n",
       "      <td>Saudi Arabian Oil Company (Saudi Aramco)</td>\n",
       "      <td>Saudi Arabia</td>\n",
       "      <td>Oil &amp; Gas Operations</td>\n",
       "      <td>480.15</td>\n",
       "      <td>104.97</td>\n",
       "      <td>645.03</td>\n",
       "      <td>1,663.38</td>\n",
       "    </tr>\n",
       "    <tr>\n",
       "      <th>4</th>\n",
       "      <td>5</td>\n",
       "      <td>Amazon</td>\n",
       "      <td>United States</td>\n",
       "      <td>Retail and Wholesale</td>\n",
       "      <td>637.96</td>\n",
       "      <td>59.25</td>\n",
       "      <td>624.89</td>\n",
       "      <td>2,005.64</td>\n",
       "    </tr>\n",
       "  </tbody>\n",
       "</table>\n",
       "</div>"
      ],
      "text/plain": [
       "   Rank                                   Company   Headquarters  \\\n",
       "0     1                             JPMorganChase  United States   \n",
       "1     2                        Berkshire Hathaway  United States   \n",
       "2     3                                      ICBC          China   \n",
       "3     4  Saudi Arabian Oil Company (Saudi Aramco)   Saudi Arabia   \n",
       "4     5                                    Amazon  United States   \n",
       "\n",
       "               Industry  Sales ($B) Profit ($B) Assets ($B) Market Value ($B)  \n",
       "0               Banking      285.11      59.36    4,357.86             677.8   \n",
       "1             Insurance      371.43          89   1,153.88          1,145.46   \n",
       "2               Banking      221.96      50.84     6,688.6            251.33   \n",
       "3  Oil & Gas Operations      480.15     104.97      645.03          1,663.38   \n",
       "4  Retail and Wholesale      637.96      59.25      624.89          2,005.64   "
      ]
     },
     "execution_count": 2,
     "metadata": {},
     "output_type": "execute_result"
    }
   ],
   "source": [
    "# === 2) Carga de datos ===\n",
    "df_companies = pd.read_csv(\"Forbes_2000_Companies_2025.csv\", sep=';', engine=\"python\", encoding=\"utf-8\")\n",
    "df_companies.head()\n"
   ]
  },
  {
   "cell_type": "markdown",
   "id": "edecd65d",
   "metadata": {},
   "source": [
    "## 3. Limpieza de la base de datos\n",
    "\n",
    "- Estandarizar nombres de columnas a **snake_case**.  \n",
    "- Remover duplicados.  \n",
    "- Convertir a numérico columnas con símbolos (`$`, `,`, etc.).  \n",
    "- Resumen de valores faltantes.\n"
   ]
  },
  {
   "cell_type": "code",
   "execution_count": 3,
   "id": "63e3feeb",
   "metadata": {},
   "outputs": [
    {
     "name": "stdout",
     "output_type": "stream",
     "text": [
      "<class 'pandas.core.frame.DataFrame'>\n",
      "RangeIndex: 2000 entries, 0 to 1999\n",
      "Data columns (total 8 columns):\n",
      " #   Column             Non-Null Count  Dtype  \n",
      "---  ------             --------------  -----  \n",
      " 0   Rank               2000 non-null   int64  \n",
      " 1   Company            2000 non-null   object \n",
      " 2   Headquarters       2000 non-null   object \n",
      " 3   Industry           2000 non-null   object \n",
      " 4   Sales ($B)         2000 non-null   float64\n",
      " 5   Profit ($B)        2000 non-null   object \n",
      " 6   Assets ($B)        2000 non-null   object \n",
      " 7   Market Value ($B)  2000 non-null   object \n",
      "dtypes: float64(1), int64(1), object(6)\n",
      "memory usage: 125.1+ KB\n"
     ]
    }
   ],
   "source": [
    "df_companies.info()"
   ]
  },
  {
   "cell_type": "code",
   "execution_count": 4,
   "id": "bc8dad13",
   "metadata": {},
   "outputs": [
    {
     "name": "stdout",
     "output_type": "stream",
     "text": [
      "Deleted Duplicate Data: 0\n"
     ]
    }
   ],
   "source": [
    "df = df_companies.copy()\n",
    "\n",
    "before = len(df)\n",
    "df = df.drop_duplicates()\n",
    "after = len(df)\n",
    "\n",
    "print(f\"Deleted Duplicate Data: {before - after}\")\n",
    "\n"
   ]
  },
  {
   "cell_type": "markdown",
   "id": "3f8171d8",
   "metadata": {},
   "source": [
    "## 4. Transformaciones (10%)"
   ]
  },
  {
   "cell_type": "markdown",
   "id": "48a4f9d4",
   "metadata": {},
   "source": [
    "### Parsing Strings to Float24"
   ]
  },
  {
   "cell_type": "code",
   "execution_count": 5,
   "id": "80254b89",
   "metadata": {},
   "outputs": [
    {
     "data": {
      "application/vnd.microsoft.datawrangler.viewer.v0+json": {
       "columns": [
        {
         "name": "index",
         "rawType": "object",
         "type": "string"
        },
        {
         "name": "0",
         "rawType": "int64",
         "type": "integer"
        }
       ],
       "ref": "41c3cc8b-4420-4b94-8715-218aede6fc37",
       "rows": [
        [
         "Rank",
         "0"
        ],
        [
         "Company",
         "0"
        ],
        [
         "Headquarters",
         "0"
        ],
        [
         "Industry",
         "0"
        ],
        [
         "Sales ($B)",
         "0"
        ],
        [
         "Profit ($B)",
         "0"
        ],
        [
         "Assets ($B)",
         "0"
        ],
        [
         "Market Value ($B)",
         "0"
        ]
       ],
       "shape": {
        "columns": 1,
        "rows": 8
       }
      },
      "text/plain": [
       "Rank                 0\n",
       "Company              0\n",
       "Headquarters         0\n",
       "Industry             0\n",
       "Sales ($B)           0\n",
       "Profit ($B)          0\n",
       "Assets ($B)          0\n",
       "Market Value ($B)    0\n",
       "dtype: int64"
      ]
     },
     "execution_count": 5,
     "metadata": {},
     "output_type": "execute_result"
    }
   ],
   "source": [
    "df_companies.isnull().sum()"
   ]
  },
  {
   "cell_type": "code",
   "execution_count": 6,
   "id": "2c4cb6d8",
   "metadata": {},
   "outputs": [
    {
     "name": "stdout",
     "output_type": "stream",
     "text": [
      "<class 'pandas.core.frame.DataFrame'>\n",
      "RangeIndex: 2000 entries, 0 to 1999\n",
      "Data columns (total 3 columns):\n",
      " #   Column             Non-Null Count  Dtype \n",
      "---  ------             --------------  ----- \n",
      " 0   Profit ($B)        2000 non-null   object\n",
      " 1   Assets ($B)        2000 non-null   object\n",
      " 2   Market Value ($B)  2000 non-null   object\n",
      "dtypes: object(3)\n",
      "memory usage: 47.0+ KB\n"
     ]
    }
   ],
   "source": [
    "df_companies[['Profit ($B)','Assets ($B)','Market Value ($B)']].info()"
   ]
  },
  {
   "cell_type": "code",
   "execution_count": 7,
   "id": "d90396b6",
   "metadata": {},
   "outputs": [],
   "source": [
    "for col in ['Profit ($B)', 'Assets ($B)', 'Market Value ($B)']:\n",
    "    df_companies[col] = df_companies[col].str.replace(\",\", \"\")\n"
   ]
  },
  {
   "cell_type": "code",
   "execution_count": 8,
   "id": "e15b6837",
   "metadata": {},
   "outputs": [
    {
     "data": {
      "application/vnd.microsoft.datawrangler.viewer.v0+json": {
       "columns": [
        {
         "name": "index",
         "rawType": "int64",
         "type": "integer"
        },
        {
         "name": "Profit ($B)",
         "rawType": "object",
         "type": "string"
        },
        {
         "name": "Assets ($B)",
         "rawType": "object",
         "type": "string"
        },
        {
         "name": "Market Value ($B)",
         "rawType": "object",
         "type": "string"
        }
       ],
       "ref": "3f75487c-6e40-4f9b-853d-e8082b64702c",
       "rows": [
        [
         "0",
         "59.36 ",
         "4357.86 ",
         "677.8 "
        ],
        [
         "1",
         "89",
         "1153.88 ",
         "1145.46 "
        ],
        [
         "2",
         "50.84 ",
         "6688.6 ",
         "251.33 "
        ],
        [
         "3",
         "104.97 ",
         "645.03 ",
         "1663.38 "
        ],
        [
         "4",
         "59.25 ",
         "624.89 ",
         "2005.64 "
        ],
        [
         "5",
         "27.85 ",
         "3349.42 ",
         "300.06 "
        ],
        [
         "6",
         "46.64 ",
         "5558.26 ",
         "219.81 "
        ],
        [
         "7",
         "39.2 ",
         "5923.64 ",
         "212.51 "
        ],
        [
         "8",
         "111",
         "475.37 ",
         "1973.64 "
        ],
        [
         "9",
         "92.75 ",
         "533.9 ",
         "2913.01 "
        ],
        [
         "10",
         "96.15 ",
         "344.08 ",
         "3143.82 "
        ],
        [
         "11",
         "32.3 ",
         "4855.83 ",
         "164.71 "
        ],
        [
         "12",
         "33.68 ",
         "453.48 ",
         "469.6 "
        ],
        [
         "13",
         "33.65 ",
         "602.41 ",
         "244.39 "
        ],
        [
         "14",
         "22.97 ",
         "3017.05 ",
         "196.16 "
        ],
        [
         "15",
         "20",
         "1950.31 ",
         "227.44 "
        ],
        [
         "16",
         "22.11 ",
         "309.79 ",
         "382.94 "
        ],
        [
         "17",
         "19.44 ",
         "260.82 ",
         "762.32 "
        ],
        [
         "18",
         "24.65 ",
         "349.51 ",
         "259.77 "
        ],
        [
         "19",
         "14.88 ",
         "1766",
         "169.34 "
        ],
        [
         "20",
         "62.36 ",
         "276.05 ",
         "1381.87 "
        ],
        [
         "21",
         "13.25 ",
         "2571.51 ",
         "127.81 "
        ],
        [
         "22",
         "16.12 ",
         "387.61 ",
         "195.55 "
        ],
        [
         "23",
         "14.29 ",
         "1300.3 ",
         "187.11 "
        ],
        [
         "24",
         "10.59 ",
         "1081.66 ",
         "157.55 "
        ],
        [
         "25",
         "12.9 ",
         "1512.88 ",
         "166.38 "
        ],
        [
         "26",
         "17.61 ",
         "1775.23 ",
         "107.27 "
        ],
        [
         "27",
         "22.88 ",
         "377.13 ",
         "136.38 "
        ],
        [
         "28",
         "13.6 ",
         "1902.3 ",
         "110.41 "
        ],
        [
         "29",
         "17.66 ",
         "256.94 ",
         "242.32 "
        ],
        [
         "30",
         "17.78 ",
         "380.36 ",
         "176.86 "
        ],
        [
         "31",
         "19.31 ",
         "293.11 ",
         "223.47 "
        ],
        [
         "32",
         "16.72 ",
         "254.13 ",
         "285.47 "
        ],
        [
         "33",
         "12.82 ",
         "2629.12 ",
         "139.79 "
        ],
        [
         "34",
         "11.85 ",
         "397.47 ",
         "192.45 "
        ],
        [
         "35",
         "11.73 ",
         "2800.93 ",
         "93.5 "
        ],
        [
         "36",
         "26.97 ",
         "244",
         "562.27 "
        ],
        [
         "37",
         "40.32 ",
         "214.84 ",
         "708.2 "
        ],
        [
         "38",
         "20.62 ",
         "1664.83 ",
         "143.87 "
        ],
        [
         "39",
         "12.12 ",
         "339.95 ",
         "173.71 "
        ],
        [
         "40",
         "15.78 ",
         "285.49 ",
         "125.83 "
        ],
        [
         "41",
         "21.81 ",
         "193.67 ",
         "372.51 "
        ],
        [
         "42",
         "15.71 ",
         "267.77 ",
         "128.18 "
        ],
        [
         "43",
         "8.31 ",
         "676.97 ",
         "100.33 "
        ],
        [
         "44",
         "8.24 ",
         "228.16 ",
         "205.91 "
        ],
        [
         "45",
         "6.39 ",
         "1445.58 ",
         "108.88 "
        ],
        [
         "46",
         "72.88 ",
         "111.6 ",
         "2708.64 "
        ],
        [
         "47",
         "12.36 ",
         "153.67 ",
         "265.65 "
        ],
        [
         "48",
         "13.58 ",
         "154.49 ",
         "283.06 "
        ],
        [
         "49",
         "10.2 ",
         "282.24 ",
         "185.52 "
        ]
       ],
       "shape": {
        "columns": 3,
        "rows": 2000
       }
      },
      "text/html": [
       "<div>\n",
       "<style scoped>\n",
       "    .dataframe tbody tr th:only-of-type {\n",
       "        vertical-align: middle;\n",
       "    }\n",
       "\n",
       "    .dataframe tbody tr th {\n",
       "        vertical-align: top;\n",
       "    }\n",
       "\n",
       "    .dataframe thead th {\n",
       "        text-align: right;\n",
       "    }\n",
       "</style>\n",
       "<table border=\"1\" class=\"dataframe\">\n",
       "  <thead>\n",
       "    <tr style=\"text-align: right;\">\n",
       "      <th></th>\n",
       "      <th>Profit ($B)</th>\n",
       "      <th>Assets ($B)</th>\n",
       "      <th>Market Value ($B)</th>\n",
       "    </tr>\n",
       "  </thead>\n",
       "  <tbody>\n",
       "    <tr>\n",
       "      <th>0</th>\n",
       "      <td>59.36</td>\n",
       "      <td>4357.86</td>\n",
       "      <td>677.8</td>\n",
       "    </tr>\n",
       "    <tr>\n",
       "      <th>1</th>\n",
       "      <td>89</td>\n",
       "      <td>1153.88</td>\n",
       "      <td>1145.46</td>\n",
       "    </tr>\n",
       "    <tr>\n",
       "      <th>2</th>\n",
       "      <td>50.84</td>\n",
       "      <td>6688.6</td>\n",
       "      <td>251.33</td>\n",
       "    </tr>\n",
       "    <tr>\n",
       "      <th>3</th>\n",
       "      <td>104.97</td>\n",
       "      <td>645.03</td>\n",
       "      <td>1663.38</td>\n",
       "    </tr>\n",
       "    <tr>\n",
       "      <th>4</th>\n",
       "      <td>59.25</td>\n",
       "      <td>624.89</td>\n",
       "      <td>2005.64</td>\n",
       "    </tr>\n",
       "    <tr>\n",
       "      <th>...</th>\n",
       "      <td>...</td>\n",
       "      <td>...</td>\n",
       "      <td>...</td>\n",
       "    </tr>\n",
       "    <tr>\n",
       "      <th>1995</th>\n",
       "      <td>0.3781</td>\n",
       "      <td>3.16</td>\n",
       "      <td>13.84</td>\n",
       "    </tr>\n",
       "    <tr>\n",
       "      <th>1996</th>\n",
       "      <td>0.0784</td>\n",
       "      <td>1.99</td>\n",
       "      <td>0.559</td>\n",
       "    </tr>\n",
       "    <tr>\n",
       "      <th>1997</th>\n",
       "      <td>0.6288</td>\n",
       "      <td>7.95</td>\n",
       "      <td>3.93</td>\n",
       "    </tr>\n",
       "    <tr>\n",
       "      <th>1998</th>\n",
       "      <td>0.0927</td>\n",
       "      <td>42.56</td>\n",
       "      <td>0.679</td>\n",
       "    </tr>\n",
       "    <tr>\n",
       "      <th>1999</th>\n",
       "      <td>1.18</td>\n",
       "      <td>3.34</td>\n",
       "      <td>0.366</td>\n",
       "    </tr>\n",
       "  </tbody>\n",
       "</table>\n",
       "<p>2000 rows × 3 columns</p>\n",
       "</div>"
      ],
      "text/plain": [
       "     Profit ($B) Assets ($B) Market Value ($B)\n",
       "0         59.36     4357.86             677.8 \n",
       "1             89    1153.88           1145.46 \n",
       "2         50.84      6688.6            251.33 \n",
       "3        104.97      645.03           1663.38 \n",
       "4         59.25      624.89           2005.64 \n",
       "...          ...         ...               ...\n",
       "1995      0.3781       3.16             13.84 \n",
       "1996      0.0784       1.99              0.559\n",
       "1997      0.6288       7.95              3.93 \n",
       "1998      0.0927      42.56              0.679\n",
       "1999       1.18        3.34              0.366\n",
       "\n",
       "[2000 rows x 3 columns]"
      ]
     },
     "execution_count": 8,
     "metadata": {},
     "output_type": "execute_result"
    }
   ],
   "source": [
    "df_companies[['Profit ($B)','Assets ($B)','Market Value ($B)']]"
   ]
  },
  {
   "cell_type": "code",
   "execution_count": 9,
   "id": "edf10b4e",
   "metadata": {},
   "outputs": [
    {
     "name": "stderr",
     "output_type": "stream",
     "text": [
      "<>:1: SyntaxWarning: invalid escape sequence '\\.'\n",
      "<>:1: SyntaxWarning: invalid escape sequence '\\.'\n",
      "C:\\Users\\seboc\\AppData\\Local\\Temp\\ipykernel_28912\\1524475582.py:1: SyntaxWarning: invalid escape sequence '\\.'\n",
      "  result_profit = df_companies['Profit ($B)'].str.count('\\.') > 1\n"
     ]
    },
    {
     "data": {
      "text/plain": [
       "2"
      ]
     },
     "execution_count": 9,
     "metadata": {},
     "output_type": "execute_result"
    }
   ],
   "source": [
    "result_profit = df_companies['Profit ($B)'].str.count('\\.') > 1\n",
    "result_profit.sum()"
   ]
  },
  {
   "cell_type": "code",
   "execution_count": 10,
   "id": "ad2b8866",
   "metadata": {},
   "outputs": [
    {
     "name": "stderr",
     "output_type": "stream",
     "text": [
      "<>:1: SyntaxWarning: invalid escape sequence '\\.'\n",
      "<>:1: SyntaxWarning: invalid escape sequence '\\.'\n",
      "C:\\Users\\seboc\\AppData\\Local\\Temp\\ipykernel_28912\\3800189975.py:1: SyntaxWarning: invalid escape sequence '\\.'\n",
      "  result_assets = df_companies['Assets ($B)'].str.count('\\.') > 1\n"
     ]
    },
    {
     "data": {
      "text/plain": [
       "0"
      ]
     },
     "execution_count": 10,
     "metadata": {},
     "output_type": "execute_result"
    }
   ],
   "source": [
    "result_assets = df_companies['Assets ($B)'].str.count('\\.') > 1\n",
    "result_assets.sum()"
   ]
  },
  {
   "cell_type": "code",
   "execution_count": 11,
   "id": "bd22a1ae",
   "metadata": {},
   "outputs": [
    {
     "name": "stderr",
     "output_type": "stream",
     "text": [
      "<>:1: SyntaxWarning: invalid escape sequence '\\.'\n",
      "<>:1: SyntaxWarning: invalid escape sequence '\\.'\n",
      "C:\\Users\\seboc\\AppData\\Local\\Temp\\ipykernel_28912\\77399904.py:1: SyntaxWarning: invalid escape sequence '\\.'\n",
      "  result_market = df_companies['Market Value ($B)'].str.count('\\.') > 1\n"
     ]
    },
    {
     "data": {
      "text/plain": [
       "0"
      ]
     },
     "execution_count": 11,
     "metadata": {},
     "output_type": "execute_result"
    }
   ],
   "source": [
    "result_market = df_companies['Market Value ($B)'].str.count('\\.') > 1\n",
    "result_market.sum()"
   ]
  },
  {
   "cell_type": "code",
   "execution_count": 12,
   "id": "23070016",
   "metadata": {},
   "outputs": [
    {
     "name": "stderr",
     "output_type": "stream",
     "text": [
      "<>:1: SyntaxWarning: invalid escape sequence '\\.'\n",
      "<>:1: SyntaxWarning: invalid escape sequence '\\.'\n",
      "C:\\Users\\seboc\\AppData\\Local\\Temp\\ipykernel_28912\\2519746371.py:1: SyntaxWarning: invalid escape sequence '\\.'\n",
      "  mask = df_companies['Profit ($B)'].str.count('\\.') > 1\n"
     ]
    },
    {
     "data": {
      "application/vnd.microsoft.datawrangler.viewer.v0+json": {
       "columns": [
        {
         "name": "index",
         "rawType": "int64",
         "type": "integer"
        },
        {
         "name": "Rank",
         "rawType": "int64",
         "type": "integer"
        },
        {
         "name": "Company",
         "rawType": "object",
         "type": "string"
        },
        {
         "name": "Headquarters",
         "rawType": "object",
         "type": "string"
        },
        {
         "name": "Industry",
         "rawType": "object",
         "type": "string"
        },
        {
         "name": "Sales ($B)",
         "rawType": "float64",
         "type": "float"
        },
        {
         "name": "Profit ($B)",
         "rawType": "object",
         "type": "string"
        },
        {
         "name": "Assets ($B)",
         "rawType": "object",
         "type": "string"
        },
        {
         "name": "Market Value ($B)",
         "rawType": "object",
         "type": "string"
        }
       ],
       "ref": "0b4e7d43-52a8-4793-801b-73c3a9b927fd",
       "rows": [
        [
         "878",
         "879",
         "Semiconductor Manufacturing International",
         "China",
         "Semiconductors",
         "7.99",
         "0.513.7",
         "48.42 ",
         "46.38 "
        ],
        [
         "1094",
         "1095",
         "Quinenco",
         "Chile",
         "Banking",
         "10.63",
         "0.703.6",
         "66.99 ",
         "6.91 "
        ]
       ],
       "shape": {
        "columns": 8,
        "rows": 2
       }
      },
      "text/html": [
       "<div>\n",
       "<style scoped>\n",
       "    .dataframe tbody tr th:only-of-type {\n",
       "        vertical-align: middle;\n",
       "    }\n",
       "\n",
       "    .dataframe tbody tr th {\n",
       "        vertical-align: top;\n",
       "    }\n",
       "\n",
       "    .dataframe thead th {\n",
       "        text-align: right;\n",
       "    }\n",
       "</style>\n",
       "<table border=\"1\" class=\"dataframe\">\n",
       "  <thead>\n",
       "    <tr style=\"text-align: right;\">\n",
       "      <th></th>\n",
       "      <th>Rank</th>\n",
       "      <th>Company</th>\n",
       "      <th>Headquarters</th>\n",
       "      <th>Industry</th>\n",
       "      <th>Sales ($B)</th>\n",
       "      <th>Profit ($B)</th>\n",
       "      <th>Assets ($B)</th>\n",
       "      <th>Market Value ($B)</th>\n",
       "    </tr>\n",
       "  </thead>\n",
       "  <tbody>\n",
       "    <tr>\n",
       "      <th>878</th>\n",
       "      <td>879</td>\n",
       "      <td>Semiconductor Manufacturing International</td>\n",
       "      <td>China</td>\n",
       "      <td>Semiconductors</td>\n",
       "      <td>7.99</td>\n",
       "      <td>0.513.7</td>\n",
       "      <td>48.42</td>\n",
       "      <td>46.38</td>\n",
       "    </tr>\n",
       "    <tr>\n",
       "      <th>1094</th>\n",
       "      <td>1095</td>\n",
       "      <td>Quinenco</td>\n",
       "      <td>Chile</td>\n",
       "      <td>Banking</td>\n",
       "      <td>10.63</td>\n",
       "      <td>0.703.6</td>\n",
       "      <td>66.99</td>\n",
       "      <td>6.91</td>\n",
       "    </tr>\n",
       "  </tbody>\n",
       "</table>\n",
       "</div>"
      ],
      "text/plain": [
       "      Rank                                    Company Headquarters  \\\n",
       "878    879  Semiconductor Manufacturing International        China   \n",
       "1094  1095                                   Quinenco        Chile   \n",
       "\n",
       "            Industry  Sales ($B) Profit ($B) Assets ($B) Market Value ($B)  \n",
       "878   Semiconductors        7.99     0.513.7      48.42             46.38   \n",
       "1094         Banking       10.63     0.703.6      66.99              6.91   "
      ]
     },
     "execution_count": 12,
     "metadata": {},
     "output_type": "execute_result"
    }
   ],
   "source": [
    "mask = df_companies['Profit ($B)'].str.count('\\.') > 1\n",
    "df_companies[mask]\n"
   ]
  },
  {
   "cell_type": "code",
   "execution_count": 13,
   "id": "ec1957f9",
   "metadata": {},
   "outputs": [],
   "source": [
    "df_companies.iloc[878,5] = '0.5137'\n",
    "df_companies.iloc[1094,5] = '0.7036'"
   ]
  },
  {
   "cell_type": "code",
   "execution_count": 14,
   "id": "3b59f8e7",
   "metadata": {},
   "outputs": [
    {
     "name": "stderr",
     "output_type": "stream",
     "text": [
      "<>:1: SyntaxWarning: invalid escape sequence '\\.'\n",
      "<>:1: SyntaxWarning: invalid escape sequence '\\.'\n",
      "C:\\Users\\seboc\\AppData\\Local\\Temp\\ipykernel_28912\\206465673.py:1: SyntaxWarning: invalid escape sequence '\\.'\n",
      "  mask = df_companies['Profit ($B)'].str.count('\\.') > 1\n"
     ]
    },
    {
     "data": {
      "application/vnd.microsoft.datawrangler.viewer.v0+json": {
       "columns": [
        {
         "name": "index",
         "rawType": "int64",
         "type": "integer"
        },
        {
         "name": "Rank",
         "rawType": "int64",
         "type": "integer"
        },
        {
         "name": "Company",
         "rawType": "object",
         "type": "string"
        },
        {
         "name": "Headquarters",
         "rawType": "object",
         "type": "string"
        },
        {
         "name": "Industry",
         "rawType": "object",
         "type": "string"
        },
        {
         "name": "Sales ($B)",
         "rawType": "float64",
         "type": "float"
        },
        {
         "name": "Profit ($B)",
         "rawType": "object",
         "type": "string"
        },
        {
         "name": "Assets ($B)",
         "rawType": "object",
         "type": "string"
        },
        {
         "name": "Market Value ($B)",
         "rawType": "object",
         "type": "string"
        }
       ],
       "ref": "66651734-0716-4154-97a3-7f1df2b477f7",
       "rows": [],
       "shape": {
        "columns": 8,
        "rows": 0
       }
      },
      "text/html": [
       "<div>\n",
       "<style scoped>\n",
       "    .dataframe tbody tr th:only-of-type {\n",
       "        vertical-align: middle;\n",
       "    }\n",
       "\n",
       "    .dataframe tbody tr th {\n",
       "        vertical-align: top;\n",
       "    }\n",
       "\n",
       "    .dataframe thead th {\n",
       "        text-align: right;\n",
       "    }\n",
       "</style>\n",
       "<table border=\"1\" class=\"dataframe\">\n",
       "  <thead>\n",
       "    <tr style=\"text-align: right;\">\n",
       "      <th></th>\n",
       "      <th>Rank</th>\n",
       "      <th>Company</th>\n",
       "      <th>Headquarters</th>\n",
       "      <th>Industry</th>\n",
       "      <th>Sales ($B)</th>\n",
       "      <th>Profit ($B)</th>\n",
       "      <th>Assets ($B)</th>\n",
       "      <th>Market Value ($B)</th>\n",
       "    </tr>\n",
       "  </thead>\n",
       "  <tbody>\n",
       "  </tbody>\n",
       "</table>\n",
       "</div>"
      ],
      "text/plain": [
       "Empty DataFrame\n",
       "Columns: [Rank, Company, Headquarters, Industry, Sales ($B), Profit ($B), Assets ($B), Market Value ($B)]\n",
       "Index: []"
      ]
     },
     "execution_count": 14,
     "metadata": {},
     "output_type": "execute_result"
    }
   ],
   "source": [
    "mask = df_companies['Profit ($B)'].str.count('\\.') > 1\n",
    "df_companies[mask]"
   ]
  },
  {
   "cell_type": "code",
   "execution_count": 15,
   "id": "efb80f96",
   "metadata": {},
   "outputs": [],
   "source": [
    "for col in ['Profit ($B)', 'Assets ($B)', 'Market Value ($B)']:\n",
    "    df_companies[col] = df_companies[col].astype(float)"
   ]
  },
  {
   "cell_type": "code",
   "execution_count": 16,
   "id": "12c9b2ef",
   "metadata": {},
   "outputs": [
    {
     "name": "stdout",
     "output_type": "stream",
     "text": [
      "<class 'pandas.core.frame.DataFrame'>\n",
      "RangeIndex: 2000 entries, 0 to 1999\n",
      "Data columns (total 8 columns):\n",
      " #   Column             Non-Null Count  Dtype  \n",
      "---  ------             --------------  -----  \n",
      " 0   Rank               2000 non-null   int64  \n",
      " 1   Company            2000 non-null   object \n",
      " 2   Headquarters       2000 non-null   object \n",
      " 3   Industry           2000 non-null   object \n",
      " 4   Sales ($B)         2000 non-null   float64\n",
      " 5   Profit ($B)        2000 non-null   float64\n",
      " 6   Assets ($B)        2000 non-null   float64\n",
      " 7   Market Value ($B)  2000 non-null   float64\n",
      "dtypes: float64(4), int64(1), object(3)\n",
      "memory usage: 125.1+ KB\n"
     ]
    }
   ],
   "source": [
    "df_companies.info()"
   ]
  },
  {
   "cell_type": "code",
   "execution_count": 17,
   "id": "c4ba77df",
   "metadata": {},
   "outputs": [],
   "source": [
    "df_companies.to_csv(\"Forbes_2000_Companies_2025_Cleaned.csv\", sep=';', index=False)"
   ]
  },
  {
   "cell_type": "markdown",
   "id": "a1b78cf9",
   "metadata": {},
   "source": [
    "### Cálculo de métricas derivadas:"
   ]
  },
  {
   "cell_type": "markdown",
   "id": "6d10e5b0",
   "metadata": {},
   "source": [
    "\n",
    "- `profit_margin = profits / sales`\n",
    "- `market_to_assets = market_value / assets`\n",
    "- `asset_turnover = sales / assets`"
   ]
  },
  {
   "cell_type": "code",
   "execution_count": 18,
   "id": "1c3741f9",
   "metadata": {},
   "outputs": [
    {
     "data": {
      "application/vnd.microsoft.datawrangler.viewer.v0+json": {
       "columns": [
        {
         "name": "index",
         "rawType": "int64",
         "type": "integer"
        },
        {
         "name": "Rank",
         "rawType": "int64",
         "type": "integer"
        },
        {
         "name": "Company",
         "rawType": "object",
         "type": "string"
        },
        {
         "name": "Headquarters",
         "rawType": "object",
         "type": "string"
        },
        {
         "name": "Industry",
         "rawType": "object",
         "type": "string"
        },
        {
         "name": "Sales ($B)",
         "rawType": "float64",
         "type": "float"
        },
        {
         "name": "Profit ($B)",
         "rawType": "float64",
         "type": "float"
        },
        {
         "name": "Assets ($B)",
         "rawType": "float64",
         "type": "float"
        },
        {
         "name": "Market Value ($B)",
         "rawType": "float64",
         "type": "float"
        },
        {
         "name": "profit_margin",
         "rawType": "float64",
         "type": "float"
        },
        {
         "name": "market_to_assets",
         "rawType": "float64",
         "type": "float"
        },
        {
         "name": "asset_turnover",
         "rawType": "float64",
         "type": "float"
        }
       ],
       "ref": "fed8fe8b-a651-45db-9d3f-59063acbc638",
       "rows": [
        [
         "0",
         "1",
         "JPMorganChase",
         "United States",
         "Banking",
         "285.11",
         "59.36",
         "4357.86",
         "677.8",
         "0.20820034372698257",
         "0.15553505619730784",
         "0.06542431376868464"
        ],
        [
         "1",
         "2",
         "Berkshire Hathaway",
         "United States",
         "Insurance",
         "371.43",
         "89.0",
         "1153.88",
         "1145.46",
         "0.23961446302129608",
         "0.992702880715499",
         "0.3218965577009741"
        ],
        [
         "2",
         "3",
         "ICBC",
         "China",
         "Banking",
         "221.96",
         "50.84",
         "6688.6",
         "251.33",
         "0.22905027932960895",
         "0.03757587537003259",
         "0.03318482193583112"
        ],
        [
         "3",
         "4",
         "Saudi Arabian Oil Company (Saudi Aramco)",
         "Saudi Arabia",
         "Oil & Gas Operations",
         "480.15",
         "104.97",
         "645.03",
         "1663.38",
         "0.21861918150577944",
         "2.5787637784289106",
         "0.7443839821403656"
        ],
        [
         "4",
         "5",
         "Amazon",
         "United States",
         "Retail and Wholesale",
         "637.96",
         "59.25",
         "624.89",
         "2005.64",
         "0.0928741613894288",
         "3.209588887644226",
         "1.0209156811598843"
        ]
       ],
       "shape": {
        "columns": 11,
        "rows": 5
       }
      },
      "text/html": [
       "<div>\n",
       "<style scoped>\n",
       "    .dataframe tbody tr th:only-of-type {\n",
       "        vertical-align: middle;\n",
       "    }\n",
       "\n",
       "    .dataframe tbody tr th {\n",
       "        vertical-align: top;\n",
       "    }\n",
       "\n",
       "    .dataframe thead th {\n",
       "        text-align: right;\n",
       "    }\n",
       "</style>\n",
       "<table border=\"1\" class=\"dataframe\">\n",
       "  <thead>\n",
       "    <tr style=\"text-align: right;\">\n",
       "      <th></th>\n",
       "      <th>Rank</th>\n",
       "      <th>Company</th>\n",
       "      <th>Headquarters</th>\n",
       "      <th>Industry</th>\n",
       "      <th>Sales ($B)</th>\n",
       "      <th>Profit ($B)</th>\n",
       "      <th>Assets ($B)</th>\n",
       "      <th>Market Value ($B)</th>\n",
       "      <th>profit_margin</th>\n",
       "      <th>market_to_assets</th>\n",
       "      <th>asset_turnover</th>\n",
       "    </tr>\n",
       "  </thead>\n",
       "  <tbody>\n",
       "    <tr>\n",
       "      <th>0</th>\n",
       "      <td>1</td>\n",
       "      <td>JPMorganChase</td>\n",
       "      <td>United States</td>\n",
       "      <td>Banking</td>\n",
       "      <td>285.11</td>\n",
       "      <td>59.36</td>\n",
       "      <td>4357.86</td>\n",
       "      <td>677.80</td>\n",
       "      <td>0.208200</td>\n",
       "      <td>0.155535</td>\n",
       "      <td>0.065424</td>\n",
       "    </tr>\n",
       "    <tr>\n",
       "      <th>1</th>\n",
       "      <td>2</td>\n",
       "      <td>Berkshire Hathaway</td>\n",
       "      <td>United States</td>\n",
       "      <td>Insurance</td>\n",
       "      <td>371.43</td>\n",
       "      <td>89.00</td>\n",
       "      <td>1153.88</td>\n",
       "      <td>1145.46</td>\n",
       "      <td>0.239614</td>\n",
       "      <td>0.992703</td>\n",
       "      <td>0.321897</td>\n",
       "    </tr>\n",
       "    <tr>\n",
       "      <th>2</th>\n",
       "      <td>3</td>\n",
       "      <td>ICBC</td>\n",
       "      <td>China</td>\n",
       "      <td>Banking</td>\n",
       "      <td>221.96</td>\n",
       "      <td>50.84</td>\n",
       "      <td>6688.60</td>\n",
       "      <td>251.33</td>\n",
       "      <td>0.229050</td>\n",
       "      <td>0.037576</td>\n",
       "      <td>0.033185</td>\n",
       "    </tr>\n",
       "    <tr>\n",
       "      <th>3</th>\n",
       "      <td>4</td>\n",
       "      <td>Saudi Arabian Oil Company (Saudi Aramco)</td>\n",
       "      <td>Saudi Arabia</td>\n",
       "      <td>Oil &amp; Gas Operations</td>\n",
       "      <td>480.15</td>\n",
       "      <td>104.97</td>\n",
       "      <td>645.03</td>\n",
       "      <td>1663.38</td>\n",
       "      <td>0.218619</td>\n",
       "      <td>2.578764</td>\n",
       "      <td>0.744384</td>\n",
       "    </tr>\n",
       "    <tr>\n",
       "      <th>4</th>\n",
       "      <td>5</td>\n",
       "      <td>Amazon</td>\n",
       "      <td>United States</td>\n",
       "      <td>Retail and Wholesale</td>\n",
       "      <td>637.96</td>\n",
       "      <td>59.25</td>\n",
       "      <td>624.89</td>\n",
       "      <td>2005.64</td>\n",
       "      <td>0.092874</td>\n",
       "      <td>3.209589</td>\n",
       "      <td>1.020916</td>\n",
       "    </tr>\n",
       "  </tbody>\n",
       "</table>\n",
       "</div>"
      ],
      "text/plain": [
       "   Rank                                   Company   Headquarters  \\\n",
       "0     1                             JPMorganChase  United States   \n",
       "1     2                        Berkshire Hathaway  United States   \n",
       "2     3                                      ICBC          China   \n",
       "3     4  Saudi Arabian Oil Company (Saudi Aramco)   Saudi Arabia   \n",
       "4     5                                    Amazon  United States   \n",
       "\n",
       "               Industry  Sales ($B)  Profit ($B)  Assets ($B)  \\\n",
       "0               Banking      285.11        59.36      4357.86   \n",
       "1             Insurance      371.43        89.00      1153.88   \n",
       "2               Banking      221.96        50.84      6688.60   \n",
       "3  Oil & Gas Operations      480.15       104.97       645.03   \n",
       "4  Retail and Wholesale      637.96        59.25       624.89   \n",
       "\n",
       "   Market Value ($B)  profit_margin  market_to_assets  asset_turnover  \n",
       "0             677.80       0.208200          0.155535        0.065424  \n",
       "1            1145.46       0.239614          0.992703        0.321897  \n",
       "2             251.33       0.229050          0.037576        0.033185  \n",
       "3            1663.38       0.218619          2.578764        0.744384  \n",
       "4            2005.64       0.092874          3.209589        1.020916  "
      ]
     },
     "execution_count": 18,
     "metadata": {},
     "output_type": "execute_result"
    }
   ],
   "source": [
    "# === 4) Transformaciones ===\n",
    "\n",
    "df_companies[\"profit_margin\"] = df_companies['Profit ($B)'] / df_companies['Sales ($B)']\n",
    "df_companies[\"market_to_assets\"] = df_companies['Market Value ($B)'] / df_companies['Assets ($B)']\n",
    "df_companies[\"asset_turnover\"] = df_companies['Sales ($B)'] / df_companies['Assets ($B)']\n",
    "\n",
    "df_companies.head()\n"
   ]
  },
  {
   "cell_type": "code",
   "execution_count": 19,
   "id": "675af79c",
   "metadata": {},
   "outputs": [
    {
     "data": {
      "text/plain": [
       "0"
      ]
     },
     "execution_count": 19,
     "metadata": {},
     "output_type": "execute_result"
    }
   ],
   "source": [
    "df_companies['profit_margin'].isnull().sum()"
   ]
  },
  {
   "cell_type": "code",
   "execution_count": 20,
   "id": "9e26803a",
   "metadata": {},
   "outputs": [
    {
     "data": {
      "application/vnd.microsoft.datawrangler.viewer.v0+json": {
       "columns": [
        {
         "name": "index",
         "rawType": "object",
         "type": "string"
        },
        {
         "name": "profit_margin",
         "rawType": "float64",
         "type": "float"
        }
       ],
       "ref": "730c8e2f-8f48-4061-9b73-3060b19d6e42",
       "rows": [
        [
         "count",
         "2000.0"
        ],
        [
         "mean",
         "inf"
        ],
        [
         "std",
         null
        ],
        [
         "min",
         "-2.5269978401727857"
        ],
        [
         "25%",
         "0.040627411984393264"
        ],
        [
         "50%",
         "0.10060605003590165"
        ],
        [
         "75%",
         "0.18405413180543237"
        ],
        [
         "max",
         "inf"
        ]
       ],
       "shape": {
        "columns": 1,
        "rows": 8
       }
      },
      "text/plain": [
       "count    2000.000000\n",
       "mean             inf\n",
       "std              NaN\n",
       "min        -2.526998\n",
       "25%         0.040627\n",
       "50%         0.100606\n",
       "75%         0.184054\n",
       "max              inf\n",
       "Name: profit_margin, dtype: float64"
      ]
     },
     "execution_count": 20,
     "metadata": {},
     "output_type": "execute_result"
    }
   ],
   "source": [
    "df_companies['profit_margin'].describe()"
   ]
  },
  {
   "cell_type": "code",
   "execution_count": 21,
   "id": "bf6467ae",
   "metadata": {},
   "outputs": [
    {
     "data": {
      "text/plain": [
       "(0, 1, 0, 1)"
      ]
     },
     "execution_count": 21,
     "metadata": {},
     "output_type": "execute_result"
    }
   ],
   "source": [
    "s = df_companies['profit_margin']\n",
    "s.isna().sum(), np.isinf(s).sum(), np.isneginf(s).sum(), np.isposinf(s).sum()"
   ]
  },
  {
   "cell_type": "code",
   "execution_count": 22,
   "id": "e52b12fc",
   "metadata": {},
   "outputs": [],
   "source": [
    "df_companies['profit_margin'] = (\n",
    "    df_companies['profit_margin']\n",
    "      .replace([np.inf, -np.inf], np.nan)   # drop infinities\n",
    "      .astype(float)\n",
    ")"
   ]
  },
  {
   "cell_type": "code",
   "execution_count": 23,
   "id": "929e42f8",
   "metadata": {},
   "outputs": [],
   "source": [
    "df_companies.to_csv(\"Forbes_2000_Companies_2025_Cleaned_Transformed.csv\", sep=';', index=False)"
   ]
  },
  {
   "cell_type": "markdown",
   "id": "23c94a31",
   "metadata": {},
   "source": [
    "## 5. Exploratorio Inicial (40%)\n",
    "\n",
    "Incluye:\n",
    "- Estadísticas descriptivas de variables numéricas.  \n",
    "- Histogramas (univariado).  \n",
    "- Conteos por categorías principales (país/industria si existen).  \n",
    "- Dispersión (bivariado) y matriz de correlación.  \n"
   ]
  },
  {
   "cell_type": "code",
   "execution_count": 24,
   "id": "9a3896b8",
   "metadata": {},
   "outputs": [
    {
     "name": "stdout",
     "output_type": "stream",
     "text": [
      "['Rank', 'Sales ($B)', 'Profit ($B)', 'Assets ($B)', 'Market Value ($B)', 'profit_margin', 'market_to_assets', 'asset_turnover']\n"
     ]
    },
    {
     "data": {
      "application/vnd.microsoft.datawrangler.viewer.v0+json": {
       "columns": [
        {
         "name": "index",
         "rawType": "object",
         "type": "string"
        },
        {
         "name": "count",
         "rawType": "float64",
         "type": "float"
        },
        {
         "name": "mean",
         "rawType": "float64",
         "type": "float"
        },
        {
         "name": "std",
         "rawType": "float64",
         "type": "float"
        },
        {
         "name": "min",
         "rawType": "float64",
         "type": "float"
        },
        {
         "name": "25%",
         "rawType": "float64",
         "type": "float"
        },
        {
         "name": "50%",
         "rawType": "float64",
         "type": "float"
        },
        {
         "name": "75%",
         "rawType": "float64",
         "type": "float"
        },
        {
         "name": "max",
         "rawType": "float64",
         "type": "float"
        }
       ],
       "ref": "1fbbebf7-7d9c-43a3-8e51-40c28387acc7",
       "rows": [
        [
         "Rank",
         "2000.0",
         "1000.331",
         "577.4300530558536",
         "1.0",
         "500.75",
         "1000.5",
         "1500.25",
         "1998.0"
        ],
        [
         "Sales ($B)",
         "2000.0",
         "26.44163",
         "47.92810514048393",
         "-21.47",
         "6.1475",
         "12.95",
         "25.7075",
         "680.99"
        ],
        [
         "Profit ($B)",
         "2000.0",
         "2.4352727",
         "6.859680858609665",
         "-21.65",
         "0.520475",
         "1.01",
         "2.2325",
         "111.0"
        ],
        [
         "Assets ($B)",
         "2000.0",
         "121.087279",
         "395.75487796017757",
         "0.181",
         "15.754999999999999",
         "33.875",
         "78.82",
         "6688.6"
        ],
        [
         "Market Value ($B)",
         "2000.0",
         "45.64175550000001",
         "154.51182100532623",
         "0.175",
         "8.307500000000001",
         "17.205",
         "37.347500000000004",
         "3143.82"
        ],
        [
         "profit_margin",
         "1999.0",
         "0.14641551483759285",
         "0.4451209879943813",
         "-2.5269978401727857",
         "0.040601557637128236",
         "0.10049696300386528",
         "0.18396370821852998",
         "15.290155440414509"
        ],
        [
         "market_to_assets",
         "2000.0",
         "1.3424024931671354",
         "3.068082936002525",
         "0.0004083882955914484",
         "0.14414663268292055",
         "0.5210215911739483",
         "1.3943525766470972",
         "73.21981424148606"
        ],
        [
         "asset_turnover",
         "2000.0",
         "0.6090806160213613",
         "0.6969395998391639",
         "-0.4825803551359856",
         "0.14355448949192712",
         "0.4628377891902377",
         "0.8030421101189495",
         "12.35144927536232"
        ]
       ],
       "shape": {
        "columns": 8,
        "rows": 8
       }
      },
      "text/html": [
       "<div>\n",
       "<style scoped>\n",
       "    .dataframe tbody tr th:only-of-type {\n",
       "        vertical-align: middle;\n",
       "    }\n",
       "\n",
       "    .dataframe tbody tr th {\n",
       "        vertical-align: top;\n",
       "    }\n",
       "\n",
       "    .dataframe thead th {\n",
       "        text-align: right;\n",
       "    }\n",
       "</style>\n",
       "<table border=\"1\" class=\"dataframe\">\n",
       "  <thead>\n",
       "    <tr style=\"text-align: right;\">\n",
       "      <th></th>\n",
       "      <th>count</th>\n",
       "      <th>mean</th>\n",
       "      <th>std</th>\n",
       "      <th>min</th>\n",
       "      <th>25%</th>\n",
       "      <th>50%</th>\n",
       "      <th>75%</th>\n",
       "      <th>max</th>\n",
       "    </tr>\n",
       "  </thead>\n",
       "  <tbody>\n",
       "    <tr>\n",
       "      <th>Rank</th>\n",
       "      <td>2000.0</td>\n",
       "      <td>1000.331000</td>\n",
       "      <td>577.430053</td>\n",
       "      <td>1.000000</td>\n",
       "      <td>500.750000</td>\n",
       "      <td>1000.500000</td>\n",
       "      <td>1500.250000</td>\n",
       "      <td>1998.000000</td>\n",
       "    </tr>\n",
       "    <tr>\n",
       "      <th>Sales ($B)</th>\n",
       "      <td>2000.0</td>\n",
       "      <td>26.441630</td>\n",
       "      <td>47.928105</td>\n",
       "      <td>-21.470000</td>\n",
       "      <td>6.147500</td>\n",
       "      <td>12.950000</td>\n",
       "      <td>25.707500</td>\n",
       "      <td>680.990000</td>\n",
       "    </tr>\n",
       "    <tr>\n",
       "      <th>Profit ($B)</th>\n",
       "      <td>2000.0</td>\n",
       "      <td>2.435273</td>\n",
       "      <td>6.859681</td>\n",
       "      <td>-21.650000</td>\n",
       "      <td>0.520475</td>\n",
       "      <td>1.010000</td>\n",
       "      <td>2.232500</td>\n",
       "      <td>111.000000</td>\n",
       "    </tr>\n",
       "    <tr>\n",
       "      <th>Assets ($B)</th>\n",
       "      <td>2000.0</td>\n",
       "      <td>121.087279</td>\n",
       "      <td>395.754878</td>\n",
       "      <td>0.181000</td>\n",
       "      <td>15.755000</td>\n",
       "      <td>33.875000</td>\n",
       "      <td>78.820000</td>\n",
       "      <td>6688.600000</td>\n",
       "    </tr>\n",
       "    <tr>\n",
       "      <th>Market Value ($B)</th>\n",
       "      <td>2000.0</td>\n",
       "      <td>45.641756</td>\n",
       "      <td>154.511821</td>\n",
       "      <td>0.175000</td>\n",
       "      <td>8.307500</td>\n",
       "      <td>17.205000</td>\n",
       "      <td>37.347500</td>\n",
       "      <td>3143.820000</td>\n",
       "    </tr>\n",
       "    <tr>\n",
       "      <th>profit_margin</th>\n",
       "      <td>1999.0</td>\n",
       "      <td>0.146416</td>\n",
       "      <td>0.445121</td>\n",
       "      <td>-2.526998</td>\n",
       "      <td>0.040602</td>\n",
       "      <td>0.100497</td>\n",
       "      <td>0.183964</td>\n",
       "      <td>15.290155</td>\n",
       "    </tr>\n",
       "    <tr>\n",
       "      <th>market_to_assets</th>\n",
       "      <td>2000.0</td>\n",
       "      <td>1.342402</td>\n",
       "      <td>3.068083</td>\n",
       "      <td>0.000408</td>\n",
       "      <td>0.144147</td>\n",
       "      <td>0.521022</td>\n",
       "      <td>1.394353</td>\n",
       "      <td>73.219814</td>\n",
       "    </tr>\n",
       "    <tr>\n",
       "      <th>asset_turnover</th>\n",
       "      <td>2000.0</td>\n",
       "      <td>0.609081</td>\n",
       "      <td>0.696940</td>\n",
       "      <td>-0.482580</td>\n",
       "      <td>0.143554</td>\n",
       "      <td>0.462838</td>\n",
       "      <td>0.803042</td>\n",
       "      <td>12.351449</td>\n",
       "    </tr>\n",
       "  </tbody>\n",
       "</table>\n",
       "</div>"
      ],
      "text/plain": [
       "                    count         mean         std        min         25%  \\\n",
       "Rank               2000.0  1000.331000  577.430053   1.000000  500.750000   \n",
       "Sales ($B)         2000.0    26.441630   47.928105 -21.470000    6.147500   \n",
       "Profit ($B)        2000.0     2.435273    6.859681 -21.650000    0.520475   \n",
       "Assets ($B)        2000.0   121.087279  395.754878   0.181000   15.755000   \n",
       "Market Value ($B)  2000.0    45.641756  154.511821   0.175000    8.307500   \n",
       "profit_margin      1999.0     0.146416    0.445121  -2.526998    0.040602   \n",
       "market_to_assets   2000.0     1.342402    3.068083   0.000408    0.144147   \n",
       "asset_turnover     2000.0     0.609081    0.696940  -0.482580    0.143554   \n",
       "\n",
       "                           50%          75%          max  \n",
       "Rank               1000.500000  1500.250000  1998.000000  \n",
       "Sales ($B)           12.950000    25.707500   680.990000  \n",
       "Profit ($B)           1.010000     2.232500   111.000000  \n",
       "Assets ($B)          33.875000    78.820000  6688.600000  \n",
       "Market Value ($B)    17.205000    37.347500  3143.820000  \n",
       "profit_margin         0.100497     0.183964    15.290155  \n",
       "market_to_assets      0.521022     1.394353    73.219814  \n",
       "asset_turnover        0.462838     0.803042    12.351449  "
      ]
     },
     "execution_count": 24,
     "metadata": {},
     "output_type": "execute_result"
    }
   ],
   "source": [
    "# === 5.1 Descriptivas ===\n",
    "numeric_cols = [column for column in df_companies.columns if pd.api.types.is_numeric_dtype(df_companies[column])]\n",
    "print(numeric_cols)\n",
    "df_companies[numeric_cols].describe().T if numeric_cols else pd.DataFrame()\n"
   ]
  },
  {
   "cell_type": "code",
   "execution_count": 25,
   "id": "e59159a9",
   "metadata": {},
   "outputs": [
    {
     "data": {
      "image/png": "[encoded data removed]",
      "text/plain": [
       "<Figure size 640x480 with 1 Axes>"
      ]
     },
     "metadata": {},
     "output_type": "display_data"
    },
    {
     "data": {
      "image/png": "[encoded data removed]",
      "text/plain": [
       "<Figure size 640x480 with 1 Axes>"
      ]
     },
     "metadata": {},
     "output_type": "display_data"
    },
    {
     "data": {
      "image/png": "[encoded data removed]",
      "text/plain": [
       "<Figure size 640x480 with 1 Axes>"
      ]
     },
     "metadata": {},
     "output_type": "display_data"
    },
    {
     "data": {
      "image/png": "[encoded data removed]",
      "text/plain": [
       "<Figure size 640x480 with 1 Axes>"
      ]
     },
     "metadata": {},
     "output_type": "display_data"
    },
    {
     "data": {
      "image/png": "[encoded data removed]",
      "text/plain": [
       "<Figure size 640x480 with 1 Axes>"
      ]
     },
     "metadata": {},
     "output_type": "display_data"
    },
    {
     "data": {
      "image/png": "[encoded data removed]",
      "text/plain": [
       "<Figure size 640x480 with 1 Axes>"
      ]
     },
     "metadata": {},
     "output_type": "display_data"
    },
    {
     "data": {
      "image/png": "[encoded data removed]",
      "text/plain": [
       "<Figure size 640x480 with 1 Axes>"
      ]
     },
     "metadata": {},
     "output_type": "display_data"
    }
   ],
   "source": [
    "# === 5.2 Univariado: histogramas ===\n",
    "import matplotlib.pyplot as plt\n",
    "\n",
    "to_plot = numeric_cols[1:]  # Take all but the first column (Rank Column)\n",
    "for c in to_plot:\n",
    "    plt.figure()\n",
    "    plt.hist(df_companies[c].dropna(), bins=30)\n",
    "    plt.title(f\"Histogram: {c}\")\n",
    "    plt.xlabel(c); plt.ylabel(\"Frequency\")\n",
    "    plt.show()\n"
   ]
  },
  {
   "cell_type": "code",
   "execution_count": 26,
   "id": "4c54416e",
   "metadata": {},
   "outputs": [
    {
     "data": {
      "text/plain": [
       "Index(['Rank', 'Company', 'Headquarters', 'Industry', 'Sales ($B)',\n",
       "       'Profit ($B)', 'Assets ($B)', 'Market Value ($B)', 'profit_margin',\n",
       "       'market_to_assets', 'asset_turnover'],\n",
       "      dtype='object')"
      ]
     },
     "execution_count": 26,
     "metadata": {},
     "output_type": "execute_result"
    }
   ],
   "source": [
    "df_companies.columns"
   ]
  },
  {
   "cell_type": "code",
   "execution_count": 27,
   "id": "b0bf7b31",
   "metadata": {},
   "outputs": [
    {
     "data": {
      "image/png": "[encoded data removed]",
      "text/plain": [
       "<Figure size 640x480 with 1 Axes>"
      ]
     },
     "metadata": {},
     "output_type": "display_data"
    },
    {
     "data": {
      "image/png": "[encoded data removed]",
      "text/plain": [
       "<Figure size 640x480 with 1 Axes>"
      ]
     },
     "metadata": {},
     "output_type": "display_data"
    }
   ],
   "source": [
    "category_columns = [c for c in df_companies.columns if df_companies[c].dtype == object]\n",
    "\n",
    "for target in ['Headquarters', 'Industry']:\n",
    "    if target:\n",
    "        counts = df_companies[target].value_counts().head(17)\n",
    "        plt.figure()\n",
    "        counts.plot(kind=\"bar\")\n",
    "        plt.title(f\"Top 17 {target} por frequency\")\n",
    "        plt.xlabel(target); plt.ylabel(\"Count\")\n",
    "        plt.tight_layout()\n",
    "        plt.show()"
   ]
  },
  {
   "cell_type": "code",
   "execution_count": 30,
   "id": "1bdd04cb",
   "metadata": {},
   "outputs": [
    {
     "data": {
      "text/plain": [
       "Index(['Rank', 'Company', 'Headquarters', 'Industry', 'Sales ($B)',\n",
       "       'Profit ($B)', 'Assets ($B)', 'Market Value ($B)', 'profit_margin',\n",
       "       'market_to_assets', 'asset_turnover'],\n",
       "      dtype='object')"
      ]
     },
     "execution_count": 30,
     "metadata": {},
     "output_type": "execute_result"
    }
   ],
   "source": [
    "df_companies.columns"
   ]
  },
  {
   "cell_type": "code",
   "execution_count": 31,
   "id": "a06571a2",
   "metadata": {},
   "outputs": [
    {
     "data": {
      "image/png": "[encoded data removed]",
      "text/plain": [
       "<Figure size 640x480 with 1 Axes>"
      ]
     },
     "metadata": {},
     "output_type": "display_data"
    },
    {
     "data": {
      "image/png": "[encoded data removed]",
      "text/plain": [
       "<Figure size 640x480 with 1 Axes>"
      ]
     },
     "metadata": {},
     "output_type": "display_data"
    }
   ],
   "source": [
    "# === 5.3 Bivariado: scatter ===\n",
    "\n",
    "assets_real = 'Assets ($B)'\n",
    "market_value = 'Market Value ($B)'\n",
    "sales_real  = 'Sales ($B)'\n",
    "profits_real= 'Profit ($B)'\n",
    "\n",
    "def scatter_if_exists(xc, yc, title):\n",
    "    if xc and yc and pd.api.types.is_numeric_dtype(df_companies[xc]) and pd.api.types.is_numeric_dtype(df_companies[yc]):\n",
    "        plt.figure()\n",
    "        plt.scatter(df_companies[xc], df_companies[yc], alpha=0.6)\n",
    "        plt.title(title)\n",
    "        plt.xlabel(xc); plt.ylabel(yc)\n",
    "        plt.tight_layout()\n",
    "        plt.show()\n",
    "\n",
    "scatter_if_exists(assets_real, market_value, f\"Scatter: {assets_real} vs {market_value}\")\n",
    "scatter_if_exists(sales_real, profits_real, f\"Scatter: {sales_real} vs {profits_real}\")\n"
   ]
  },
  {
   "cell_type": "code",
   "execution_count": 33,
   "id": "8028f72c",
   "metadata": {},
   "outputs": [
    {
     "data": {
      "image/png": "[encoded data removed]",
      "text/plain": [
       "<Figure size 800x600 with 2 Axes>"
      ]
     },
     "metadata": {},
     "output_type": "display_data"
    },
    {
     "name": "stdout",
     "output_type": "stream",
     "text": [
      "Top absolute correlations:\n"
     ]
    },
    {
     "data": {
      "application/vnd.microsoft.datawrangler.viewer.v0+json": {
       "columns": [
        {
         "name": "(None, None)",
         "rawType": "object",
         "type": "unknown"
        },
        {
         "name": "0",
         "rawType": "float64",
         "type": "float"
        }
       ],
       "ref": "faa15b1d-eb98-48d3-a02f-72898e3b9b53",
       "rows": [
        [
         "('Market Value ($B)', 'Profit ($B)')",
         "0.8395940796757675"
        ],
        [
         "('Profit ($B)', 'Sales ($B)')",
         "0.6469893362909149"
        ],
        [
         "('Market Value ($B)', 'Sales ($B)')",
         "0.5379450600891253"
        ],
        [
         "('Assets ($B)', 'Profit ($B)')",
         "0.44612041425002025"
        ],
        [
         "('Assets ($B)', 'Sales ($B)')",
         "0.3890489063399741"
        ],
        [
         "('market_to_assets', 'Market Value ($B)')",
         "0.212228372930757"
        ],
        [
         "('asset_turnover', 'Sales ($B)')",
         "0.20539960943726868"
        ],
        [
         "('asset_turnover', 'Assets ($B)')",
         "0.17161345818584414"
        ],
        [
         "('Market Value ($B)', 'Assets ($B)')",
         "0.1582333971668501"
        ],
        [
         "('profit_margin', 'Profit ($B)')",
         "0.13409826051601118"
        ]
       ],
       "shape": {
        "columns": 1,
        "rows": 10
       }
      },
      "text/plain": [
       "Market Value ($B)  Profit ($B)          0.839594\n",
       "Profit ($B)        Sales ($B)           0.646989\n",
       "Market Value ($B)  Sales ($B)           0.537945\n",
       "Assets ($B)        Profit ($B)          0.446120\n",
       "                   Sales ($B)           0.389049\n",
       "market_to_assets   Market Value ($B)    0.212228\n",
       "asset_turnover     Sales ($B)           0.205400\n",
       "                   Assets ($B)          0.171613\n",
       "Market Value ($B)  Assets ($B)          0.158233\n",
       "profit_margin      Profit ($B)          0.134098\n",
       "dtype: float64"
      ]
     },
     "metadata": {},
     "output_type": "display_data"
    }
   ],
   "source": [
    "# === 5.4 Correlations ===\n",
    "\n",
    "\n",
    "numeric_cols = [\n",
    "    'Sales ($B)', 'Profit ($B)', 'Assets ($B)', 'Market Value ($B)',\n",
    "    'profit_margin', 'market_to_assets', 'asset_turnover'\n",
    "]\n",
    "\n",
    "\n",
    "# compute correlation\n",
    "corr = df_companies[numeric_cols].corr(numeric_only=True) # Pearson correlation coefficient -> which measures the linear relationship between two variables.\n",
    "\n",
    "# --- heatmap ---\n",
    "plt.figure(figsize=(8, 6))\n",
    "im = plt.imshow(corr, vmin=-1, vmax=1, cmap='coolwarm', aspect='equal')\n",
    "plt.colorbar(im, fraction=0.046, pad=0.04)\n",
    "plt.xticks(range(len(numeric_cols)), numeric_cols, rotation=90)\n",
    "plt.yticks(range(len(numeric_cols)), numeric_cols)\n",
    "plt.title(\"Correlation matrix (selected numeric features)\")\n",
    "plt.tight_layout()\n",
    "plt.show()\n",
    "\n",
    "# --- top absolute correlation pairs (no duplicates, no diagonal) ---\n",
    "corr_abs = corr.abs().copy()\n",
    "\n",
    "# mask lower triangle + diagonal so each pair appears once\n",
    "mask_lower = np.tril_indices_from(corr_abs, k=0)\n",
    "corr_abs.values[mask_lower] = np.nan\n",
    "\n",
    "top_pairs = (\n",
    "    corr_abs.unstack()\n",
    "            .dropna()\n",
    "            .sort_values(ascending=False)\n",
    "            .head(10)\n",
    ")\n",
    "\n",
    "print(\"Top absolute correlations:\")\n",
    "display(top_pairs)\n",
    "\n"
   ]
  },
  {
   "cell_type": "code",
   "execution_count": 34,
   "id": "26750d4d",
   "metadata": {},
   "outputs": [
    {
     "data": {
      "text/plain": [
       "Index(['Rank', 'Company', 'Headquarters', 'Industry', 'Sales ($B)',\n",
       "       'Profit ($B)', 'Assets ($B)', 'Market Value ($B)', 'profit_margin',\n",
       "       'market_to_assets', 'asset_turnover'],\n",
       "      dtype='object')"
      ]
     },
     "execution_count": 34,
     "metadata": {},
     "output_type": "execute_result"
    }
   ],
   "source": [
    "df_companies.columns"
   ]
  },
  {
   "cell_type": "code",
   "execution_count": 36,
   "id": "8cb5cc10",
   "metadata": {},
   "outputs": [
    {
     "data": {
      "application/vnd.microsoft.datawrangler.viewer.v0+json": {
       "columns": [
        {
         "name": "Industry",
         "rawType": "object",
         "type": "string"
        },
        {
         "name": "Sales ($B)",
         "rawType": "float64",
         "type": "float"
        },
        {
         "name": "Profit ($B)",
         "rawType": "float64",
         "type": "float"
        },
        {
         "name": "Assets ($B)",
         "rawType": "float64",
         "type": "float"
        },
        {
         "name": "Market Value ($B)",
         "rawType": "float64",
         "type": "float"
        },
        {
         "name": "profit_margin",
         "rawType": "float64",
         "type": "float"
        },
        {
         "name": "market_to_assets",
         "rawType": "float64",
         "type": "float"
        },
        {
         "name": "asset_turnover",
         "rawType": "float64",
         "type": "float"
        }
       ],
       "ref": "678103b1-eeff-4034-b67a-702b55c0b910",
       "rows": [
        [
         "Retail and Wholesale",
         "637.96",
         "59.25",
         "624.89",
         "2005.64",
         "0.0928741613894288",
         "3.209588887644226",
         "1.0209156811598843"
        ],
        [
         "Engineering, Manufacturing",
         "64.81",
         "10.79",
         "87.76",
         "146.46",
         "0.1664866532942447",
         "1.668869644484959",
         "0.7384913400182315"
        ],
        [
         "Oil & Gas Operations",
         "56.255376344086024",
         "4.266916129032258",
         "76.47268817204301",
         "57.17301075268817",
         "0.10169230221588182",
         "0.5953945528509382",
         "0.8093386330591468"
        ],
        [
         "Consumer Durables",
         "47.369375000000005",
         "2.185425",
         "67.90225000000001",
         "37.295975",
         "0.07237852849862474",
         "1.1134535191579453",
         "1.0353047669072346"
        ],
        [
         "Food Markets",
         "45.515",
         "0.9935461538461539",
         "28.59",
         "20.441153846153846",
         "0.029606187155073252",
         "1.3206362149662558",
         "1.8977476967302553"
        ],
        [
         "Retailing",
         "45.47354430379747",
         "1.9061177215189875",
         "33.108569620253164",
         "49.470417721518984",
         "0.06322951517955427",
         "2.036662056941281",
         "1.5044138313139697"
        ],
        [
         "Insurance",
         "36.77890756302521",
         "3.2855764705882353",
         "219.64327731092436",
         "40.924067226890756",
         "0.09581965442988072",
         "0.3689738705589897",
         "0.27832271405176023"
        ],
        [
         "Trading Companies",
         "35.96970588235294",
         "0.9662941176470587",
         "27.733235294117648",
         "17.957529411764707",
         "0.03607271284489028",
         "0.9545871710426816",
         "1.8405417244866344"
        ],
        [
         "Technology Hardware & Equipment",
         "33.28106666666667",
         "3.2816833333333335",
         "37.24101666666666",
         "87.81483333333334",
         "0.09190436537695898",
         "2.601690354201114",
         "1.0222189959527586"
        ],
        [
         "Health Care Equipment & Services",
         "32.17163265306122",
         "1.538591836734694",
         "26.609999999999996",
         "44.50918367346939",
         "0.12116605555964702",
         "2.3791462717632514",
         "0.9459288977457818"
        ],
        [
         "Telecommunications Services",
         "31.286976744186045",
         "2.837651162790698",
         "85.16534883720931",
         "48.345953488372096",
         "0.17513936335016414",
         "0.744249363598745",
         "0.37945779443586436"
        ],
        [
         "Drugs & Biotechnology",
         "28.147315789473684",
         "3.240285964912281",
         "49.12928070175439",
         "85.19029824561403",
         "0.19473295724304782",
         "2.64174363294205",
         "0.6355399467083762"
        ],
        [
         "Media",
         "26.45157894736842",
         "0.8388157894736842",
         "56.87263157894736",
         "33.09578947368421",
         "0.01685827046949883",
         "1.5488993403965767",
         "0.5477657102582418"
        ],
        [
         "Construction",
         "24.917119266055046",
         "0.8935110091743119",
         "54.01385321100918",
         "15.043449541284405",
         "0.08565786161777979",
         "0.7107397825791214",
         "0.6203353676462994"
        ],
        [
         "Aerospace & Defense",
         "24.449666666666666",
         "1.35623",
         "43.138333333333335",
         "60.760999999999996",
         "0.08826893229296821",
         "2.128121021900078",
         "0.5950357738547526"
        ]
       ],
       "shape": {
        "columns": 7,
        "rows": 15
       }
      },
      "text/html": [
       "<div>\n",
       "<style scoped>\n",
       "    .dataframe tbody tr th:only-of-type {\n",
       "        vertical-align: middle;\n",
       "    }\n",
       "\n",
       "    .dataframe tbody tr th {\n",
       "        vertical-align: top;\n",
       "    }\n",
       "\n",
       "    .dataframe thead th {\n",
       "        text-align: right;\n",
       "    }\n",
       "</style>\n",
       "<table border=\"1\" class=\"dataframe\">\n",
       "  <thead>\n",
       "    <tr style=\"text-align: right;\">\n",
       "      <th></th>\n",
       "      <th>Sales ($B)</th>\n",
       "      <th>Profit ($B)</th>\n",
       "      <th>Assets ($B)</th>\n",
       "      <th>Market Value ($B)</th>\n",
       "      <th>profit_margin</th>\n",
       "      <th>market_to_assets</th>\n",
       "      <th>asset_turnover</th>\n",
       "    </tr>\n",
       "    <tr>\n",
       "      <th>Industry</th>\n",
       "      <th></th>\n",
       "      <th></th>\n",
       "      <th></th>\n",
       "      <th></th>\n",
       "      <th></th>\n",
       "      <th></th>\n",
       "      <th></th>\n",
       "    </tr>\n",
       "  </thead>\n",
       "  <tbody>\n",
       "    <tr>\n",
       "      <th>Retail and Wholesale</th>\n",
       "      <td>637.960000</td>\n",
       "      <td>59.250000</td>\n",
       "      <td>624.890000</td>\n",
       "      <td>2005.640000</td>\n",
       "      <td>0.092874</td>\n",
       "      <td>3.209589</td>\n",
       "      <td>1.020916</td>\n",
       "    </tr>\n",
       "    <tr>\n",
       "      <th>Engineering, Manufacturing</th>\n",
       "      <td>64.810000</td>\n",
       "      <td>10.790000</td>\n",
       "      <td>87.760000</td>\n",
       "      <td>146.460000</td>\n",
       "      <td>0.166487</td>\n",
       "      <td>1.668870</td>\n",
       "      <td>0.738491</td>\n",
       "    </tr>\n",
       "    <tr>\n",
       "      <th>Oil &amp; Gas Operations</th>\n",
       "      <td>56.255376</td>\n",
       "      <td>4.266916</td>\n",
       "      <td>76.472688</td>\n",
       "      <td>57.173011</td>\n",
       "      <td>0.101692</td>\n",
       "      <td>0.595395</td>\n",
       "      <td>0.809339</td>\n",
       "    </tr>\n",
       "    <tr>\n",
       "      <th>Consumer Durables</th>\n",
       "      <td>47.369375</td>\n",
       "      <td>2.185425</td>\n",
       "      <td>67.902250</td>\n",
       "      <td>37.295975</td>\n",
       "      <td>0.072379</td>\n",
       "      <td>1.113454</td>\n",
       "      <td>1.035305</td>\n",
       "    </tr>\n",
       "    <tr>\n",
       "      <th>Food Markets</th>\n",
       "      <td>45.515000</td>\n",
       "      <td>0.993546</td>\n",
       "      <td>28.590000</td>\n",
       "      <td>20.441154</td>\n",
       "      <td>0.029606</td>\n",
       "      <td>1.320636</td>\n",
       "      <td>1.897748</td>\n",
       "    </tr>\n",
       "    <tr>\n",
       "      <th>Retailing</th>\n",
       "      <td>45.473544</td>\n",
       "      <td>1.906118</td>\n",
       "      <td>33.108570</td>\n",
       "      <td>49.470418</td>\n",
       "      <td>0.063230</td>\n",
       "      <td>2.036662</td>\n",
       "      <td>1.504414</td>\n",
       "    </tr>\n",
       "    <tr>\n",
       "      <th>Insurance</th>\n",
       "      <td>36.778908</td>\n",
       "      <td>3.285576</td>\n",
       "      <td>219.643277</td>\n",
       "      <td>40.924067</td>\n",
       "      <td>0.095820</td>\n",
       "      <td>0.368974</td>\n",
       "      <td>0.278323</td>\n",
       "    </tr>\n",
       "    <tr>\n",
       "      <th>Trading Companies</th>\n",
       "      <td>35.969706</td>\n",
       "      <td>0.966294</td>\n",
       "      <td>27.733235</td>\n",
       "      <td>17.957529</td>\n",
       "      <td>0.036073</td>\n",
       "      <td>0.954587</td>\n",
       "      <td>1.840542</td>\n",
       "    </tr>\n",
       "    <tr>\n",
       "      <th>Technology Hardware &amp; Equipment</th>\n",
       "      <td>33.281067</td>\n",
       "      <td>3.281683</td>\n",
       "      <td>37.241017</td>\n",
       "      <td>87.814833</td>\n",
       "      <td>0.091904</td>\n",
       "      <td>2.601690</td>\n",
       "      <td>1.022219</td>\n",
       "    </tr>\n",
       "    <tr>\n",
       "      <th>Health Care Equipment &amp; Services</th>\n",
       "      <td>32.171633</td>\n",
       "      <td>1.538592</td>\n",
       "      <td>26.610000</td>\n",
       "      <td>44.509184</td>\n",
       "      <td>0.121166</td>\n",
       "      <td>2.379146</td>\n",
       "      <td>0.945929</td>\n",
       "    </tr>\n",
       "    <tr>\n",
       "      <th>Telecommunications Services</th>\n",
       "      <td>31.286977</td>\n",
       "      <td>2.837651</td>\n",
       "      <td>85.165349</td>\n",
       "      <td>48.345953</td>\n",
       "      <td>0.175139</td>\n",
       "      <td>0.744249</td>\n",
       "      <td>0.379458</td>\n",
       "    </tr>\n",
       "    <tr>\n",
       "      <th>Drugs &amp; Biotechnology</th>\n",
       "      <td>28.147316</td>\n",
       "      <td>3.240286</td>\n",
       "      <td>49.129281</td>\n",
       "      <td>85.190298</td>\n",
       "      <td>0.194733</td>\n",
       "      <td>2.641744</td>\n",
       "      <td>0.635540</td>\n",
       "    </tr>\n",
       "    <tr>\n",
       "      <th>Media</th>\n",
       "      <td>26.451579</td>\n",
       "      <td>0.838816</td>\n",
       "      <td>56.872632</td>\n",
       "      <td>33.095789</td>\n",
       "      <td>0.016858</td>\n",
       "      <td>1.548899</td>\n",
       "      <td>0.547766</td>\n",
       "    </tr>\n",
       "    <tr>\n",
       "      <th>Construction</th>\n",
       "      <td>24.917119</td>\n",
       "      <td>0.893511</td>\n",
       "      <td>54.013853</td>\n",
       "      <td>15.043450</td>\n",
       "      <td>0.085658</td>\n",
       "      <td>0.710740</td>\n",
       "      <td>0.620335</td>\n",
       "    </tr>\n",
       "    <tr>\n",
       "      <th>Aerospace &amp; Defense</th>\n",
       "      <td>24.449667</td>\n",
       "      <td>1.356230</td>\n",
       "      <td>43.138333</td>\n",
       "      <td>60.761000</td>\n",
       "      <td>0.088269</td>\n",
       "      <td>2.128121</td>\n",
       "      <td>0.595036</td>\n",
       "    </tr>\n",
       "  </tbody>\n",
       "</table>\n",
       "</div>"
      ],
      "text/plain": [
       "                                  Sales ($B)  Profit ($B)  Assets ($B)  \\\n",
       "Industry                                                                 \n",
       "Retail and Wholesale              637.960000    59.250000   624.890000   \n",
       "Engineering, Manufacturing         64.810000    10.790000    87.760000   \n",
       "Oil & Gas Operations               56.255376     4.266916    76.472688   \n",
       "Consumer Durables                  47.369375     2.185425    67.902250   \n",
       "Food Markets                       45.515000     0.993546    28.590000   \n",
       "Retailing                          45.473544     1.906118    33.108570   \n",
       "Insurance                          36.778908     3.285576   219.643277   \n",
       "Trading Companies                  35.969706     0.966294    27.733235   \n",
       "Technology Hardware & Equipment    33.281067     3.281683    37.241017   \n",
       "Health Care Equipment & Services   32.171633     1.538592    26.610000   \n",
       "Telecommunications Services        31.286977     2.837651    85.165349   \n",
       "Drugs & Biotechnology              28.147316     3.240286    49.129281   \n",
       "Media                              26.451579     0.838816    56.872632   \n",
       "Construction                       24.917119     0.893511    54.013853   \n",
       "Aerospace & Defense                24.449667     1.356230    43.138333   \n",
       "\n",
       "                                  Market Value ($B)  profit_margin  \\\n",
       "Industry                                                             \n",
       "Retail and Wholesale                    2005.640000       0.092874   \n",
       "Engineering, Manufacturing               146.460000       0.166487   \n",
       "Oil & Gas Operations                      57.173011       0.101692   \n",
       "Consumer Durables                         37.295975       0.072379   \n",
       "Food Markets                              20.441154       0.029606   \n",
       "Retailing                                 49.470418       0.063230   \n",
       "Insurance                                 40.924067       0.095820   \n",
       "Trading Companies                         17.957529       0.036073   \n",
       "Technology Hardware & Equipment           87.814833       0.091904   \n",
       "Health Care Equipment & Services          44.509184       0.121166   \n",
       "Telecommunications Services               48.345953       0.175139   \n",
       "Drugs & Biotechnology                     85.190298       0.194733   \n",
       "Media                                     33.095789       0.016858   \n",
       "Construction                              15.043450       0.085658   \n",
       "Aerospace & Defense                       60.761000       0.088269   \n",
       "\n",
       "                                  market_to_assets  asset_turnover  \n",
       "Industry                                                            \n",
       "Retail and Wholesale                      3.209589        1.020916  \n",
       "Engineering, Manufacturing                1.668870        0.738491  \n",
       "Oil & Gas Operations                      0.595395        0.809339  \n",
       "Consumer Durables                         1.113454        1.035305  \n",
       "Food Markets                              1.320636        1.897748  \n",
       "Retailing                                 2.036662        1.504414  \n",
       "Insurance                                 0.368974        0.278323  \n",
       "Trading Companies                         0.954587        1.840542  \n",
       "Technology Hardware & Equipment           2.601690        1.022219  \n",
       "Health Care Equipment & Services          2.379146        0.945929  \n",
       "Telecommunications Services               0.744249        0.379458  \n",
       "Drugs & Biotechnology                     2.641744        0.635540  \n",
       "Media                                     1.548899        0.547766  \n",
       "Construction                              0.710740        0.620335  \n",
       "Aerospace & Defense                       2.128121        0.595036  "
      ]
     },
     "metadata": {},
     "output_type": "display_data"
    },
    {
     "data": {
      "application/vnd.microsoft.datawrangler.viewer.v0+json": {
       "columns": [
        {
         "name": "Headquarters",
         "rawType": "object",
         "type": "string"
        },
        {
         "name": "Sales ($B)",
         "rawType": "float64",
         "type": "float"
        },
        {
         "name": "Profit ($B)",
         "rawType": "float64",
         "type": "float"
        },
        {
         "name": "Assets ($B)",
         "rawType": "float64",
         "type": "float"
        },
        {
         "name": "Market Value ($B)",
         "rawType": "float64",
         "type": "float"
        },
        {
         "name": "profit_margin",
         "rawType": "float64",
         "type": "float"
        },
        {
         "name": "market_to_assets",
         "rawType": "float64",
         "type": "float"
        },
        {
         "name": "asset_turnover",
         "rawType": "float64",
         "type": "float"
        }
       ],
       "ref": "2de9e510-cf6b-4e1f-8d30-e0d64eb32839",
       "rows": [
        [
         "Germany",
         "46.16857142857143",
         "1.935887755102041",
         "147.21734693877553",
         "42.75610204081632",
         "0.06680413845728306",
         "0.7260701511694582",
         "0.7178775257639625"
        ],
        [
         "France",
         "42.994680851063826",
         "2.8697148936170214",
         "216.12617021276597",
         "57.56893617021277",
         "0.08488172203590806",
         "1.0490625155285789",
         "0.5869824970148774"
        ],
        [
         "Spain",
         "33.37736842105263",
         "3.1838894736842103",
         "237.50526315789475",
         "42.411578947368426",
         "0.12650319081257777",
         "0.7774963122201685",
         "0.39182820366124144"
        ],
        [
         "Saudi Arabia",
         "32.82105263157895",
         "7.147273684210527",
         "106.8921052631579",
         "115.71368421052631",
         "0.23877602864881856",
         "1.4853630513703724",
         "0.3078419198111702"
        ],
        [
         "United States",
         "31.857047385620913",
         "3.307263725490196",
         "99.8200996732026",
         "82.06201470588236",
         "0.12082561718403995",
         "2.051486250553479",
         "0.7160816084404169"
        ],
        [
         "United Kingdom",
         "31.395632352941174",
         "2.4137411764705883",
         "202.685",
         "41.93602941176471",
         "0.1583789859528211",
         "0.8485786990998733",
         "0.6011171218589191"
        ],
        [
         "China",
         "28.402425454545455",
         "2.3801265454545457",
         "208.77627999999999",
         "25.821738181818183",
         "0.11545047690940467",
         "1.1663582051435382",
         "0.5933403671142832"
        ],
        [
         "Luxembourg",
         "27.3475",
         "1.1391",
         "36.35",
         "42.77",
         "0.06347497735701087",
         "2.8499609827401917",
         "0.8575254828679358"
        ],
        [
         "South Korea",
         "27.195645161290326",
         "1.6538564516129033",
         "86.55516129032259",
         "13.716209677419354",
         "0.10569261231184407",
         "0.28112679284103337",
         "0.5474127106688941"
        ],
        [
         "Turkey",
         "25.538",
         "0.9689300000000001",
         "65.72",
         "6.587000000000001",
         "0.04609795502687089",
         "0.27867966899572966",
         "0.7576074376116821"
        ],
        [
         "Switzerland",
         "24.994044444444445",
         "2.6587177777777775",
         "114.78488888888889",
         "45.718044444444445",
         "0.17748503317811204",
         "1.5956226774786137",
         "0.5650245579285461"
        ],
        [
         "Netherlands",
         "23.85404347826087",
         "3.0650217391304353",
         "116.59260869565217",
         "35.97826086956522",
         "0.8522220599177092",
         "1.5537590950022238",
         "0.5250748712974793"
        ],
        [
         "Japan",
         "23.553922222222223",
         "1.6506999999999998",
         "111.71416666666666",
         "22.74548888888889",
         "0.10108193186644555",
         "0.730339435432177",
         "0.564230595439451"
        ],
        [
         "Brazil",
         "23.475925925925928",
         "1.8231185185185186",
         "71.79296296296296",
         "18.602333333333334",
         "0.313232557786569",
         "0.6439321283324326",
         "0.8298381831442057"
        ],
        [
         "Norway",
         "22.384999999999998",
         "2.1192625",
         "79.175",
         "22.0125",
         "0.11762638352186458",
         "0.9032576481195873",
         "0.5068375469932002"
        ]
       ],
       "shape": {
        "columns": 7,
        "rows": 15
       }
      },
      "text/html": [
       "<div>\n",
       "<style scoped>\n",
       "    .dataframe tbody tr th:only-of-type {\n",
       "        vertical-align: middle;\n",
       "    }\n",
       "\n",
       "    .dataframe tbody tr th {\n",
       "        vertical-align: top;\n",
       "    }\n",
       "\n",
       "    .dataframe thead th {\n",
       "        text-align: right;\n",
       "    }\n",
       "</style>\n",
       "<table border=\"1\" class=\"dataframe\">\n",
       "  <thead>\n",
       "    <tr style=\"text-align: right;\">\n",
       "      <th></th>\n",
       "      <th>Sales ($B)</th>\n",
       "      <th>Profit ($B)</th>\n",
       "      <th>Assets ($B)</th>\n",
       "      <th>Market Value ($B)</th>\n",
       "      <th>profit_margin</th>\n",
       "      <th>market_to_assets</th>\n",
       "      <th>asset_turnover</th>\n",
       "    </tr>\n",
       "    <tr>\n",
       "      <th>Headquarters</th>\n",
       "      <th></th>\n",
       "      <th></th>\n",
       "      <th></th>\n",
       "      <th></th>\n",
       "      <th></th>\n",
       "      <th></th>\n",
       "      <th></th>\n",
       "    </tr>\n",
       "  </thead>\n",
       "  <tbody>\n",
       "    <tr>\n",
       "      <th>Germany</th>\n",
       "      <td>46.168571</td>\n",
       "      <td>1.935888</td>\n",
       "      <td>147.217347</td>\n",
       "      <td>42.756102</td>\n",
       "      <td>0.066804</td>\n",
       "      <td>0.726070</td>\n",
       "      <td>0.717878</td>\n",
       "    </tr>\n",
       "    <tr>\n",
       "      <th>France</th>\n",
       "      <td>42.994681</td>\n",
       "      <td>2.869715</td>\n",
       "      <td>216.126170</td>\n",
       "      <td>57.568936</td>\n",
       "      <td>0.084882</td>\n",
       "      <td>1.049063</td>\n",
       "      <td>0.586982</td>\n",
       "    </tr>\n",
       "    <tr>\n",
       "      <th>Spain</th>\n",
       "      <td>33.377368</td>\n",
       "      <td>3.183889</td>\n",
       "      <td>237.505263</td>\n",
       "      <td>42.411579</td>\n",
       "      <td>0.126503</td>\n",
       "      <td>0.777496</td>\n",
       "      <td>0.391828</td>\n",
       "    </tr>\n",
       "    <tr>\n",
       "      <th>Saudi Arabia</th>\n",
       "      <td>32.821053</td>\n",
       "      <td>7.147274</td>\n",
       "      <td>106.892105</td>\n",
       "      <td>115.713684</td>\n",
       "      <td>0.238776</td>\n",
       "      <td>1.485363</td>\n",
       "      <td>0.307842</td>\n",
       "    </tr>\n",
       "    <tr>\n",
       "      <th>United States</th>\n",
       "      <td>31.857047</td>\n",
       "      <td>3.307264</td>\n",
       "      <td>99.820100</td>\n",
       "      <td>82.062015</td>\n",
       "      <td>0.120826</td>\n",
       "      <td>2.051486</td>\n",
       "      <td>0.716082</td>\n",
       "    </tr>\n",
       "    <tr>\n",
       "      <th>United Kingdom</th>\n",
       "      <td>31.395632</td>\n",
       "      <td>2.413741</td>\n",
       "      <td>202.685000</td>\n",
       "      <td>41.936029</td>\n",
       "      <td>0.158379</td>\n",
       "      <td>0.848579</td>\n",
       "      <td>0.601117</td>\n",
       "    </tr>\n",
       "    <tr>\n",
       "      <th>China</th>\n",
       "      <td>28.402425</td>\n",
       "      <td>2.380127</td>\n",
       "      <td>208.776280</td>\n",
       "      <td>25.821738</td>\n",
       "      <td>0.115450</td>\n",
       "      <td>1.166358</td>\n",
       "      <td>0.593340</td>\n",
       "    </tr>\n",
       "    <tr>\n",
       "      <th>Luxembourg</th>\n",
       "      <td>27.347500</td>\n",
       "      <td>1.139100</td>\n",
       "      <td>36.350000</td>\n",
       "      <td>42.770000</td>\n",
       "      <td>0.063475</td>\n",
       "      <td>2.849961</td>\n",
       "      <td>0.857525</td>\n",
       "    </tr>\n",
       "    <tr>\n",
       "      <th>South Korea</th>\n",
       "      <td>27.195645</td>\n",
       "      <td>1.653856</td>\n",
       "      <td>86.555161</td>\n",
       "      <td>13.716210</td>\n",
       "      <td>0.105693</td>\n",
       "      <td>0.281127</td>\n",
       "      <td>0.547413</td>\n",
       "    </tr>\n",
       "    <tr>\n",
       "      <th>Turkey</th>\n",
       "      <td>25.538000</td>\n",
       "      <td>0.968930</td>\n",
       "      <td>65.720000</td>\n",
       "      <td>6.587000</td>\n",
       "      <td>0.046098</td>\n",
       "      <td>0.278680</td>\n",
       "      <td>0.757607</td>\n",
       "    </tr>\n",
       "    <tr>\n",
       "      <th>Switzerland</th>\n",
       "      <td>24.994044</td>\n",
       "      <td>2.658718</td>\n",
       "      <td>114.784889</td>\n",
       "      <td>45.718044</td>\n",
       "      <td>0.177485</td>\n",
       "      <td>1.595623</td>\n",
       "      <td>0.565025</td>\n",
       "    </tr>\n",
       "    <tr>\n",
       "      <th>Netherlands</th>\n",
       "      <td>23.854043</td>\n",
       "      <td>3.065022</td>\n",
       "      <td>116.592609</td>\n",
       "      <td>35.978261</td>\n",
       "      <td>0.852222</td>\n",
       "      <td>1.553759</td>\n",
       "      <td>0.525075</td>\n",
       "    </tr>\n",
       "    <tr>\n",
       "      <th>Japan</th>\n",
       "      <td>23.553922</td>\n",
       "      <td>1.650700</td>\n",
       "      <td>111.714167</td>\n",
       "      <td>22.745489</td>\n",
       "      <td>0.101082</td>\n",
       "      <td>0.730339</td>\n",
       "      <td>0.564231</td>\n",
       "    </tr>\n",
       "    <tr>\n",
       "      <th>Brazil</th>\n",
       "      <td>23.475926</td>\n",
       "      <td>1.823119</td>\n",
       "      <td>71.792963</td>\n",
       "      <td>18.602333</td>\n",
       "      <td>0.313233</td>\n",
       "      <td>0.643932</td>\n",
       "      <td>0.829838</td>\n",
       "    </tr>\n",
       "    <tr>\n",
       "      <th>Norway</th>\n",
       "      <td>22.385000</td>\n",
       "      <td>2.119263</td>\n",
       "      <td>79.175000</td>\n",
       "      <td>22.012500</td>\n",
       "      <td>0.117626</td>\n",
       "      <td>0.903258</td>\n",
       "      <td>0.506838</td>\n",
       "    </tr>\n",
       "  </tbody>\n",
       "</table>\n",
       "</div>"
      ],
      "text/plain": [
       "                Sales ($B)  Profit ($B)  Assets ($B)  Market Value ($B)  \\\n",
       "Headquarters                                                              \n",
       "Germany          46.168571     1.935888   147.217347          42.756102   \n",
       "France           42.994681     2.869715   216.126170          57.568936   \n",
       "Spain            33.377368     3.183889   237.505263          42.411579   \n",
       "Saudi Arabia     32.821053     7.147274   106.892105         115.713684   \n",
       "United States    31.857047     3.307264    99.820100          82.062015   \n",
       "United Kingdom   31.395632     2.413741   202.685000          41.936029   \n",
       "China            28.402425     2.380127   208.776280          25.821738   \n",
       "Luxembourg       27.347500     1.139100    36.350000          42.770000   \n",
       "South Korea      27.195645     1.653856    86.555161          13.716210   \n",
       "Turkey           25.538000     0.968930    65.720000           6.587000   \n",
       "Switzerland      24.994044     2.658718   114.784889          45.718044   \n",
       "Netherlands      23.854043     3.065022   116.592609          35.978261   \n",
       "Japan            23.553922     1.650700   111.714167          22.745489   \n",
       "Brazil           23.475926     1.823119    71.792963          18.602333   \n",
       "Norway           22.385000     2.119263    79.175000          22.012500   \n",
       "\n",
       "                profit_margin  market_to_assets  asset_turnover  \n",
       "Headquarters                                                     \n",
       "Germany              0.066804          0.726070        0.717878  \n",
       "France               0.084882          1.049063        0.586982  \n",
       "Spain                0.126503          0.777496        0.391828  \n",
       "Saudi Arabia         0.238776          1.485363        0.307842  \n",
       "United States        0.120826          2.051486        0.716082  \n",
       "United Kingdom       0.158379          0.848579        0.601117  \n",
       "China                0.115450          1.166358        0.593340  \n",
       "Luxembourg           0.063475          2.849961        0.857525  \n",
       "South Korea          0.105693          0.281127        0.547413  \n",
       "Turkey               0.046098          0.278680        0.757607  \n",
       "Switzerland          0.177485          1.595623        0.565025  \n",
       "Netherlands          0.852222          1.553759        0.525075  \n",
       "Japan                0.101082          0.730339        0.564231  \n",
       "Brazil               0.313233          0.643932        0.829838  \n",
       "Norway               0.117626          0.903258        0.506838  "
      ]
     },
     "metadata": {},
     "output_type": "display_data"
    }
   ],
   "source": [
    "# === 5.5 Resúmenes por grupo (industry/country) ===\n",
    "\n",
    "metrics = ['Sales ($B)','Profit ($B)', 'Assets ($B)', 'Market Value ($B)', 'profit_margin','market_to_assets', 'asset_turnover']\n",
    "\n",
    "display(df_companies.groupby(by='Industry')[metrics].mean(numeric_only=True).sort_values(by=metrics[0], ascending=False).head(15))\n",
    "\n",
    "display(df_companies.groupby(by='Headquarters')[metrics].mean(numeric_only=True).sort_values(by=metrics[0], ascending=False).head(15))\n"
   ]
  },
  {
   "cell_type": "markdown",
   "id": "a94f6a91",
   "metadata": {},
   "source": [
    "## 6. Análisis y conclusiones (50%)"
   ]
  },
  {
   "cell_type": "markdown",
   "id": "f45578a7",
   "metadata": {},
   "source": [
    "- ¿Cómo se distribuyen las métricas financieras clave?  \n",
    "- ¿Qué países e industrias concentran más compañías y mayor valor?\n",
    "- ¿Qué relaciones existen entre variables financieras?"
   ]
  },
  {
   "cell_type": "markdown",
   "id": "1024af28",
   "metadata": {},
   "source": [
    "### ¿Cómo se distribuyen las métricas financieras clave? "
   ]
  },
  {
   "cell_type": "markdown",
   "id": "28f3a6ff",
   "metadata": {},
   "source": [
    "- All the key financial metrics have a right-skewed (positively skewed) distribution."
   ]
  },
  {
   "cell_type": "markdown",
   "id": "bdf9ca8a",
   "metadata": {},
   "source": [
    "### ¿Qué países e industrias concentran más compañías y mayor valor?"
   ]
  },
  {
   "cell_type": "markdown",
   "id": "2545d300",
   "metadata": {},
   "source": [
    "- The banking Industry and USA are the ones which have the major number of companies"
   ]
  },
  {
   "cell_type": "markdown",
   "id": "d68ec58d",
   "metadata": {},
   "source": [
    "### ¿Qué relaciones existen entre variables financieras?"
   ]
  },
  {
   "cell_type": "markdown",
   "id": "a255e37b",
   "metadata": {},
   "source": [
    "- The scatter plot of Assets ($B) vs Market Value ($B) shows that while most companies cluster at lower asset and market value levels, the overall relationship is weak and non-linear. Some firms with massive assets do not have correspondingly high market values, while others achieve very high valuations despite relatively modest asset bases. This suggests that market value is influenced by more than just asset size—factors such as profitability, growth potential, and intangible assets play a critical role in how companies are valued."
   ]
  }
 ],
 "metadata": {
  "kernelspec": {
   "display_name": "base",
   "language": "python",
   "name": "python3"
  },
  "language_info": {
   "codemirror_mode": {
    "name": "ipython",
    "version": 3
   },
   "file_extension": ".py",
   "mimetype": "text/x-python",
   "name": "python",
   "nbconvert_exporter": "python",
   "pygments_lexer": "ipython3",
   "version": "3.12.3"
  }
 },
 "nbformat": 4,
 "nbformat_minor": 5
}
