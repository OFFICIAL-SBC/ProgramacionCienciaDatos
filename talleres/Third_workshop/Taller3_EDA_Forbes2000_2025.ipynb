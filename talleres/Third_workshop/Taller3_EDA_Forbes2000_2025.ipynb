{
 "cells": [
  {
   "cell_type": "markdown",
   "id": "18688406",
   "metadata": {},
   "source": [
    "# Taller 3: Exploratory Data Analysis (EDA)\n",
    "\n",
    "**Dataset:** Forbes Global 2000 (2025)  \n",
    "**Archivo:** `Forbes_2000_Companies_2025.csv`  \n",
    "**Generado:** 2025-09-03 00:02:11\n",
    "\n",
    "Este cuaderno realiza un EDA completo siguiendo los pasos solicitados.\n"
   ]
  },
  {
   "cell_type": "markdown",
   "id": "116d5bcb",
   "metadata": {},
   "source": [
    "## 1. Entender la necesidad\n",
    "\n",
    "**Objetivo:** Comprender los factores asociados al tamaño y desempeño financiero de las compañías del ranking Forbes Global 2000 (2025).  \n",
    "Preguntas guía:\n",
    "- ¿Cómo se distribuyen las métricas financieras clave?  \n",
    "- ¿Qué países e industrias concentran más compañías y mayor valor?\n",
    "- ¿Qué relaciones existen entre variables financieras?\n",
    "- ¿Qué métricas derivadas ayudan a interpretar el desempeño?\n"
   ]
  },
  {
   "cell_type": "markdown",
   "id": "d7d1965e",
   "metadata": {},
   "source": [
    "## 2. Descargar y abrir los datos\n",
    "\n",
    "El archivo CSV ya está disponible localmente. Se carga con **pandas**.\n"
   ]
  },
  {
   "cell_type": "code",
   "execution_count": 1,
   "id": "0057f98b",
   "metadata": {},
   "outputs": [],
   "source": [
    "import pandas as pd\n",
    "import numpy as np\n",
    "import matplotlib.pyplot as plt"
   ]
  },
  {
   "cell_type": "code",
   "execution_count": 3,
   "id": "c6c59b74",
   "metadata": {},
   "outputs": [
    {
     "data": {
      "application/vnd.microsoft.datawrangler.viewer.v0+json": {
       "columns": [
        {
         "name": "index",
         "rawType": "int64",
         "type": "integer"
        },
        {
         "name": "Rank",
         "rawType": "int64",
         "type": "integer"
        },
        {
         "name": "Company",
         "rawType": "object",
         "type": "string"
        },
        {
         "name": "Headquarters",
         "rawType": "object",
         "type": "string"
        },
        {
         "name": "Industry",
         "rawType": "object",
         "type": "string"
        },
        {
         "name": "Sales ($B)",
         "rawType": "float64",
         "type": "float"
        },
        {
         "name": "Profit ($B)",
         "rawType": "object",
         "type": "string"
        },
        {
         "name": "Assets ($B)",
         "rawType": "object",
         "type": "string"
        },
        {
         "name": "Market Value ($B)",
         "rawType": "object",
         "type": "string"
        }
       ],
       "ref": "b3bf3bbb-cf16-4350-bed4-8716580da58e",
       "rows": [
        [
         "0",
         "1",
         "JPMorganChase",
         "United States",
         "Banking",
         "285.11",
         "59.36 ",
         "4,357.86 ",
         "677.8 "
        ],
        [
         "1",
         "2",
         "Berkshire Hathaway",
         "United States",
         "Insurance",
         "371.43",
         "89",
         "1,153.88 ",
         "1,145.46 "
        ],
        [
         "2",
         "3",
         "ICBC",
         "China",
         "Banking",
         "221.96",
         "50.84 ",
         "6,688.6 ",
         "251.33 "
        ],
        [
         "3",
         "4",
         "Saudi Arabian Oil Company (Saudi Aramco)",
         "Saudi Arabia",
         "Oil & Gas Operations",
         "480.15",
         "104.97 ",
         "645.03 ",
         "1,663.38 "
        ],
        [
         "4",
         "5",
         "Amazon",
         "United States",
         "Retail and Wholesale",
         "637.96",
         "59.25 ",
         "624.89 ",
         "2,005.64 "
        ]
       ],
       "shape": {
        "columns": 8,
        "rows": 5
       }
      },
      "text/html": [
       "<div>\n",
       "<style scoped>\n",
       "    .dataframe tbody tr th:only-of-type {\n",
       "        vertical-align: middle;\n",
       "    }\n",
       "\n",
       "    .dataframe tbody tr th {\n",
       "        vertical-align: top;\n",
       "    }\n",
       "\n",
       "    .dataframe thead th {\n",
       "        text-align: right;\n",
       "    }\n",
       "</style>\n",
       "<table border=\"1\" class=\"dataframe\">\n",
       "  <thead>\n",
       "    <tr style=\"text-align: right;\">\n",
       "      <th></th>\n",
       "      <th>Rank</th>\n",
       "      <th>Company</th>\n",
       "      <th>Headquarters</th>\n",
       "      <th>Industry</th>\n",
       "      <th>Sales ($B)</th>\n",
       "      <th>Profit ($B)</th>\n",
       "      <th>Assets ($B)</th>\n",
       "      <th>Market Value ($B)</th>\n",
       "    </tr>\n",
       "  </thead>\n",
       "  <tbody>\n",
       "    <tr>\n",
       "      <th>0</th>\n",
       "      <td>1</td>\n",
       "      <td>JPMorganChase</td>\n",
       "      <td>United States</td>\n",
       "      <td>Banking</td>\n",
       "      <td>285.11</td>\n",
       "      <td>59.36</td>\n",
       "      <td>4,357.86</td>\n",
       "      <td>677.8</td>\n",
       "    </tr>\n",
       "    <tr>\n",
       "      <th>1</th>\n",
       "      <td>2</td>\n",
       "      <td>Berkshire Hathaway</td>\n",
       "      <td>United States</td>\n",
       "      <td>Insurance</td>\n",
       "      <td>371.43</td>\n",
       "      <td>89</td>\n",
       "      <td>1,153.88</td>\n",
       "      <td>1,145.46</td>\n",
       "    </tr>\n",
       "    <tr>\n",
       "      <th>2</th>\n",
       "      <td>3</td>\n",
       "      <td>ICBC</td>\n",
       "      <td>China</td>\n",
       "      <td>Banking</td>\n",
       "      <td>221.96</td>\n",
       "      <td>50.84</td>\n",
       "      <td>6,688.6</td>\n",
       "      <td>251.33</td>\n",
       "    </tr>\n",
       "    <tr>\n",
       "      <th>3</th>\n",
       "      <td>4</td>\n",
       "      <td>Saudi Arabian Oil Company (Saudi Aramco)</td>\n",
       "      <td>Saudi Arabia</td>\n",
       "      <td>Oil &amp; Gas Operations</td>\n",
       "      <td>480.15</td>\n",
       "      <td>104.97</td>\n",
       "      <td>645.03</td>\n",
       "      <td>1,663.38</td>\n",
       "    </tr>\n",
       "    <tr>\n",
       "      <th>4</th>\n",
       "      <td>5</td>\n",
       "      <td>Amazon</td>\n",
       "      <td>United States</td>\n",
       "      <td>Retail and Wholesale</td>\n",
       "      <td>637.96</td>\n",
       "      <td>59.25</td>\n",
       "      <td>624.89</td>\n",
       "      <td>2,005.64</td>\n",
       "    </tr>\n",
       "  </tbody>\n",
       "</table>\n",
       "</div>"
      ],
      "text/plain": [
       "   Rank                                   Company   Headquarters  \\\n",
       "0     1                             JPMorganChase  United States   \n",
       "1     2                        Berkshire Hathaway  United States   \n",
       "2     3                                      ICBC          China   \n",
       "3     4  Saudi Arabian Oil Company (Saudi Aramco)   Saudi Arabia   \n",
       "4     5                                    Amazon  United States   \n",
       "\n",
       "               Industry  Sales ($B) Profit ($B) Assets ($B) Market Value ($B)  \n",
       "0               Banking      285.11      59.36    4,357.86             677.8   \n",
       "1             Insurance      371.43          89   1,153.88          1,145.46   \n",
       "2               Banking      221.96      50.84     6,688.6            251.33   \n",
       "3  Oil & Gas Operations      480.15     104.97      645.03          1,663.38   \n",
       "4  Retail and Wholesale      637.96      59.25      624.89          2,005.64   "
      ]
     },
     "execution_count": 3,
     "metadata": {},
     "output_type": "execute_result"
    }
   ],
   "source": [
    "# === 2) Carga de datos ===\n",
    "df_companies = pd.read_csv(\"Forbes_2000_Companies_2025.csv\", sep=';', engine=\"python\", encoding=\"utf-8\")\n",
    "df_companies.head()\n"
   ]
  },
  {
   "cell_type": "markdown",
   "id": "edecd65d",
   "metadata": {},
   "source": [
    "## 3. Limpieza de la base de datos\n",
    "\n",
    "- Estandarizar nombres de columnas a **snake_case**.  \n",
    "- Remover duplicados.  \n",
    "- Convertir a numérico columnas con símbolos (`$`, `,`, etc.).  \n",
    "- Resumen de valores faltantes.\n"
   ]
  },
  {
   "cell_type": "code",
   "execution_count": 4,
   "id": "63e3feeb",
   "metadata": {},
   "outputs": [
    {
     "name": "stdout",
     "output_type": "stream",
     "text": [
      "<class 'pandas.core.frame.DataFrame'>\n",
      "RangeIndex: 2000 entries, 0 to 1999\n",
      "Data columns (total 8 columns):\n",
      " #   Column             Non-Null Count  Dtype  \n",
      "---  ------             --------------  -----  \n",
      " 0   Rank               2000 non-null   int64  \n",
      " 1   Company            2000 non-null   object \n",
      " 2   Headquarters       2000 non-null   object \n",
      " 3   Industry           2000 non-null   object \n",
      " 4   Sales ($B)         2000 non-null   float64\n",
      " 5   Profit ($B)        2000 non-null   object \n",
      " 6   Assets ($B)        2000 non-null   object \n",
      " 7   Market Value ($B)  2000 non-null   object \n",
      "dtypes: float64(1), int64(1), object(6)\n",
      "memory usage: 125.1+ KB\n"
     ]
    }
   ],
   "source": [
    "df_companies.info()"
   ]
  },
  {
   "cell_type": "code",
   "execution_count": 5,
   "id": "bc8dad13",
   "metadata": {},
   "outputs": [
    {
     "name": "stdout",
     "output_type": "stream",
     "text": [
      "Deleted Duplicate Data: 0\n"
     ]
    }
   ],
   "source": [
    "df = df_companies.copy()\n",
    "\n",
    "before = len(df)\n",
    "df = df.drop_duplicates()\n",
    "after = len(df)\n",
    "\n",
    "print(f\"Deleted Duplicate Data: {before - after}\")\n",
    "\n"
   ]
  },
  {
   "cell_type": "markdown",
   "id": "3f8171d8",
   "metadata": {},
   "source": [
    "## 4. Transformaciones (10%)"
   ]
  },
  {
   "cell_type": "markdown",
   "id": "48a4f9d4",
   "metadata": {},
   "source": [
    "### Parsing Strings to Float24"
   ]
  },
  {
   "cell_type": "code",
   "execution_count": 6,
   "id": "80254b89",
   "metadata": {},
   "outputs": [
    {
     "data": {
      "application/vnd.microsoft.datawrangler.viewer.v0+json": {
       "columns": [
        {
         "name": "index",
         "rawType": "object",
         "type": "string"
        },
        {
         "name": "0",
         "rawType": "int64",
         "type": "integer"
        }
       ],
       "ref": "311413b2-767e-4f8a-bb5b-8b6e41ebf8a4",
       "rows": [
        [
         "Rank",
         "0"
        ],
        [
         "Company",
         "0"
        ],
        [
         "Headquarters",
         "0"
        ],
        [
         "Industry",
         "0"
        ],
        [
         "Sales ($B)",
         "0"
        ],
        [
         "Profit ($B)",
         "0"
        ],
        [
         "Assets ($B)",
         "0"
        ],
        [
         "Market Value ($B)",
         "0"
        ]
       ],
       "shape": {
        "columns": 1,
        "rows": 8
       }
      },
      "text/plain": [
       "Rank                 0\n",
       "Company              0\n",
       "Headquarters         0\n",
       "Industry             0\n",
       "Sales ($B)           0\n",
       "Profit ($B)          0\n",
       "Assets ($B)          0\n",
       "Market Value ($B)    0\n",
       "dtype: int64"
      ]
     },
     "execution_count": 6,
     "metadata": {},
     "output_type": "execute_result"
    }
   ],
   "source": [
    "df_companies.isnull().sum()"
   ]
  },
  {
   "cell_type": "code",
   "execution_count": 15,
   "id": "2c4cb6d8",
   "metadata": {},
   "outputs": [
    {
     "name": "stdout",
     "output_type": "stream",
     "text": [
      "<class 'pandas.core.frame.DataFrame'>\n",
      "RangeIndex: 2000 entries, 0 to 1999\n",
      "Data columns (total 3 columns):\n",
      " #   Column             Non-Null Count  Dtype \n",
      "---  ------             --------------  ----- \n",
      " 0   Profit ($B)        2000 non-null   object\n",
      " 1   Assets ($B)        2000 non-null   object\n",
      " 2   Market Value ($B)  2000 non-null   object\n",
      "dtypes: object(3)\n",
      "memory usage: 47.0+ KB\n"
     ]
    }
   ],
   "source": [
    "df_companies[['Profit ($B)','Assets ($B)','Market Value ($B)']].info()"
   ]
  },
  {
   "cell_type": "code",
   "execution_count": 10,
   "id": "d90396b6",
   "metadata": {},
   "outputs": [],
   "source": [
    "for col in ['Profit ($B)', 'Assets ($B)', 'Market Value ($B)']:\n",
    "    df_companies[col] = df_companies[col].str.replace(\",\", \"\")\n"
   ]
  },
  {
   "cell_type": "code",
   "execution_count": 14,
   "id": "e15b6837",
   "metadata": {},
   "outputs": [
    {
     "data": {
      "application/vnd.microsoft.datawrangler.viewer.v0+json": {
       "columns": [
        {
         "name": "index",
         "rawType": "int64",
         "type": "integer"
        },
        {
         "name": "Profit ($B)",
         "rawType": "object",
         "type": "string"
        },
        {
         "name": "Assets ($B)",
         "rawType": "object",
         "type": "string"
        },
        {
         "name": "Market Value ($B)",
         "rawType": "object",
         "type": "string"
        }
       ],
       "ref": "32619b1f-781e-4841-b374-c6703498a0c0",
       "rows": [
        [
         "0",
         "59.36 ",
         "4357.86 ",
         "677.8 "
        ],
        [
         "1",
         "89",
         "1153.88 ",
         "1145.46 "
        ],
        [
         "2",
         "50.84 ",
         "6688.6 ",
         "251.33 "
        ],
        [
         "3",
         "104.97 ",
         "645.03 ",
         "1663.38 "
        ],
        [
         "4",
         "59.25 ",
         "624.89 ",
         "2005.64 "
        ],
        [
         "5",
         "27.85 ",
         "3349.42 ",
         "300.06 "
        ],
        [
         "6",
         "46.64 ",
         "5558.26 ",
         "219.81 "
        ],
        [
         "7",
         "39.2 ",
         "5923.64 ",
         "212.51 "
        ],
        [
         "8",
         "111",
         "475.37 ",
         "1973.64 "
        ],
        [
         "9",
         "92.75 ",
         "533.9 ",
         "2913.01 "
        ],
        [
         "10",
         "96.15 ",
         "344.08 ",
         "3143.82 "
        ],
        [
         "11",
         "32.3 ",
         "4855.83 ",
         "164.71 "
        ],
        [
         "12",
         "33.68 ",
         "453.48 ",
         "469.6 "
        ],
        [
         "13",
         "33.65 ",
         "602.41 ",
         "244.39 "
        ],
        [
         "14",
         "22.97 ",
         "3017.05 ",
         "196.16 "
        ],
        [
         "15",
         "20",
         "1950.31 ",
         "227.44 "
        ],
        [
         "16",
         "22.11 ",
         "309.79 ",
         "382.94 "
        ],
        [
         "17",
         "19.44 ",
         "260.82 ",
         "762.32 "
        ],
        [
         "18",
         "24.65 ",
         "349.51 ",
         "259.77 "
        ],
        [
         "19",
         "14.88 ",
         "1766",
         "169.34 "
        ],
        [
         "20",
         "62.36 ",
         "276.05 ",
         "1381.87 "
        ],
        [
         "21",
         "13.25 ",
         "2571.51 ",
         "127.81 "
        ],
        [
         "22",
         "16.12 ",
         "387.61 ",
         "195.55 "
        ],
        [
         "23",
         "14.29 ",
         "1300.3 ",
         "187.11 "
        ],
        [
         "24",
         "10.59 ",
         "1081.66 ",
         "157.55 "
        ],
        [
         "25",
         "12.9 ",
         "1512.88 ",
         "166.38 "
        ],
        [
         "26",
         "17.61 ",
         "1775.23 ",
         "107.27 "
        ],
        [
         "27",
         "22.88 ",
         "377.13 ",
         "136.38 "
        ],
        [
         "28",
         "13.6 ",
         "1902.3 ",
         "110.41 "
        ],
        [
         "29",
         "17.66 ",
         "256.94 ",
         "242.32 "
        ],
        [
         "30",
         "17.78 ",
         "380.36 ",
         "176.86 "
        ],
        [
         "31",
         "19.31 ",
         "293.11 ",
         "223.47 "
        ],
        [
         "32",
         "16.72 ",
         "254.13 ",
         "285.47 "
        ],
        [
         "33",
         "12.82 ",
         "2629.12 ",
         "139.79 "
        ],
        [
         "34",
         "11.85 ",
         "397.47 ",
         "192.45 "
        ],
        [
         "35",
         "11.73 ",
         "2800.93 ",
         "93.5 "
        ],
        [
         "36",
         "26.97 ",
         "244",
         "562.27 "
        ],
        [
         "37",
         "40.32 ",
         "214.84 ",
         "708.2 "
        ],
        [
         "38",
         "20.62 ",
         "1664.83 ",
         "143.87 "
        ],
        [
         "39",
         "12.12 ",
         "339.95 ",
         "173.71 "
        ],
        [
         "40",
         "15.78 ",
         "285.49 ",
         "125.83 "
        ],
        [
         "41",
         "21.81 ",
         "193.67 ",
         "372.51 "
        ],
        [
         "42",
         "15.71 ",
         "267.77 ",
         "128.18 "
        ],
        [
         "43",
         "8.31 ",
         "676.97 ",
         "100.33 "
        ],
        [
         "44",
         "8.24 ",
         "228.16 ",
         "205.91 "
        ],
        [
         "45",
         "6.39 ",
         "1445.58 ",
         "108.88 "
        ],
        [
         "46",
         "72.88 ",
         "111.6 ",
         "2708.64 "
        ],
        [
         "47",
         "12.36 ",
         "153.67 ",
         "265.65 "
        ],
        [
         "48",
         "13.58 ",
         "154.49 ",
         "283.06 "
        ],
        [
         "49",
         "10.2 ",
         "282.24 ",
         "185.52 "
        ]
       ],
       "shape": {
        "columns": 3,
        "rows": 2000
       }
      },
      "text/html": [
       "<div>\n",
       "<style scoped>\n",
       "    .dataframe tbody tr th:only-of-type {\n",
       "        vertical-align: middle;\n",
       "    }\n",
       "\n",
       "    .dataframe tbody tr th {\n",
       "        vertical-align: top;\n",
       "    }\n",
       "\n",
       "    .dataframe thead th {\n",
       "        text-align: right;\n",
       "    }\n",
       "</style>\n",
       "<table border=\"1\" class=\"dataframe\">\n",
       "  <thead>\n",
       "    <tr style=\"text-align: right;\">\n",
       "      <th></th>\n",
       "      <th>Profit ($B)</th>\n",
       "      <th>Assets ($B)</th>\n",
       "      <th>Market Value ($B)</th>\n",
       "    </tr>\n",
       "  </thead>\n",
       "  <tbody>\n",
       "    <tr>\n",
       "      <th>0</th>\n",
       "      <td>59.36</td>\n",
       "      <td>4357.86</td>\n",
       "      <td>677.8</td>\n",
       "    </tr>\n",
       "    <tr>\n",
       "      <th>1</th>\n",
       "      <td>89</td>\n",
       "      <td>1153.88</td>\n",
       "      <td>1145.46</td>\n",
       "    </tr>\n",
       "    <tr>\n",
       "      <th>2</th>\n",
       "      <td>50.84</td>\n",
       "      <td>6688.6</td>\n",
       "      <td>251.33</td>\n",
       "    </tr>\n",
       "    <tr>\n",
       "      <th>3</th>\n",
       "      <td>104.97</td>\n",
       "      <td>645.03</td>\n",
       "      <td>1663.38</td>\n",
       "    </tr>\n",
       "    <tr>\n",
       "      <th>4</th>\n",
       "      <td>59.25</td>\n",
       "      <td>624.89</td>\n",
       "      <td>2005.64</td>\n",
       "    </tr>\n",
       "    <tr>\n",
       "      <th>...</th>\n",
       "      <td>...</td>\n",
       "      <td>...</td>\n",
       "      <td>...</td>\n",
       "    </tr>\n",
       "    <tr>\n",
       "      <th>1995</th>\n",
       "      <td>0.3781</td>\n",
       "      <td>3.16</td>\n",
       "      <td>13.84</td>\n",
       "    </tr>\n",
       "    <tr>\n",
       "      <th>1996</th>\n",
       "      <td>0.0784</td>\n",
       "      <td>1.99</td>\n",
       "      <td>0.559</td>\n",
       "    </tr>\n",
       "    <tr>\n",
       "      <th>1997</th>\n",
       "      <td>0.6288</td>\n",
       "      <td>7.95</td>\n",
       "      <td>3.93</td>\n",
       "    </tr>\n",
       "    <tr>\n",
       "      <th>1998</th>\n",
       "      <td>0.0927</td>\n",
       "      <td>42.56</td>\n",
       "      <td>0.679</td>\n",
       "    </tr>\n",
       "    <tr>\n",
       "      <th>1999</th>\n",
       "      <td>1.18</td>\n",
       "      <td>3.34</td>\n",
       "      <td>0.366</td>\n",
       "    </tr>\n",
       "  </tbody>\n",
       "</table>\n",
       "<p>2000 rows × 3 columns</p>\n",
       "</div>"
      ],
      "text/plain": [
       "     Profit ($B) Assets ($B) Market Value ($B)\n",
       "0         59.36     4357.86             677.8 \n",
       "1             89    1153.88           1145.46 \n",
       "2         50.84      6688.6            251.33 \n",
       "3        104.97      645.03           1663.38 \n",
       "4         59.25      624.89           2005.64 \n",
       "...          ...         ...               ...\n",
       "1995      0.3781       3.16             13.84 \n",
       "1996      0.0784       1.99              0.559\n",
       "1997      0.6288       7.95              3.93 \n",
       "1998      0.0927      42.56              0.679\n",
       "1999       1.18        3.34              0.366\n",
       "\n",
       "[2000 rows x 3 columns]"
      ]
     },
     "execution_count": 14,
     "metadata": {},
     "output_type": "execute_result"
    }
   ],
   "source": [
    "df_companies[['Profit ($B)','Assets ($B)','Market Value ($B)']]"
   ]
  },
  {
   "cell_type": "code",
   "execution_count": 23,
   "id": "edf10b4e",
   "metadata": {},
   "outputs": [
    {
     "name": "stderr",
     "output_type": "stream",
     "text": [
      "<>:1: SyntaxWarning: invalid escape sequence '\\.'\n",
      "<>:1: SyntaxWarning: invalid escape sequence '\\.'\n",
      "C:\\Users\\seboc\\AppData\\Local\\Temp\\ipykernel_26008\\1524475582.py:1: SyntaxWarning: invalid escape sequence '\\.'\n",
      "  result_profit = df_companies['Profit ($B)'].str.count('\\.') > 1\n"
     ]
    },
    {
     "data": {
      "text/plain": [
       "2"
      ]
     },
     "execution_count": 23,
     "metadata": {},
     "output_type": "execute_result"
    }
   ],
   "source": [
    "result_profit = df_companies['Profit ($B)'].str.count('\\.') > 1\n",
    "result_profit.sum()"
   ]
  },
  {
   "cell_type": "code",
   "execution_count": null,
   "id": "ad2b8866",
   "metadata": {},
   "outputs": [],
   "source": [
    "result_assets = df_companies['Assets ($B)'].str.count('\\.') > 1\n",
    "result_assets.sum()"
   ]
  },
  {
   "cell_type": "code",
   "execution_count": null,
   "id": "bd22a1ae",
   "metadata": {},
   "outputs": [],
   "source": [
    "result_market = df_companies['Market Value ($B)'].str.count('\\.') > 1\n",
    "result_market.sum()"
   ]
  },
  {
   "cell_type": "markdown",
   "id": "a1b78cf9",
   "metadata": {},
   "source": [
    "### Cálculo de métricas derivadas:"
   ]
  },
  {
   "cell_type": "markdown",
   "id": "6d10e5b0",
   "metadata": {},
   "source": [
    "\n",
    "- `profit_margin = profits / sales`\n",
    "- `market_to_assets = market_value / assets`\n",
    "- `asset_turnover = sales / assets`"
   ]
  },
  {
   "cell_type": "code",
   "execution_count": 4,
   "id": "1c3741f9",
   "metadata": {},
   "outputs": [
    {
     "data": {
      "application/vnd.microsoft.datawrangler.viewer.v0+json": {
       "columns": [
        {
         "name": "index",
         "rawType": "int64",
         "type": "integer"
        },
        {
         "name": "rank",
         "rawType": "int64",
         "type": "integer"
        },
        {
         "name": "company",
         "rawType": "object",
         "type": "string"
        },
        {
         "name": "headquarters",
         "rawType": "object",
         "type": "string"
        },
        {
         "name": "industry",
         "rawType": "object",
         "type": "string"
        },
        {
         "name": "sales__$b_",
         "rawType": "float64",
         "type": "float"
        },
        {
         "name": "profit__$b_",
         "rawType": "float64",
         "type": "float"
        },
        {
         "name": "assets__$b_",
         "rawType": "float64",
         "type": "float"
        },
        {
         "name": "market_value__$b_",
         "rawType": "float64",
         "type": "float"
        },
        {
         "name": "profit_margin",
         "rawType": "float64",
         "type": "float"
        },
        {
         "name": "market_to_assets",
         "rawType": "float64",
         "type": "float"
        },
        {
         "name": "asset_turnover",
         "rawType": "float64",
         "type": "float"
        }
       ],
       "ref": "ba4a157a-8359-4a4f-baff-60580417f4f1",
       "rows": [
        [
         "0",
         "1",
         "JPMorganChase",
         "United States",
         "Banking",
         "285.11",
         "59.36",
         "4357.86",
         "677.8",
         "0.20820034372698257",
         "0.15553505619730784",
         "0.06542431376868464"
        ],
        [
         "1",
         "2",
         "Berkshire Hathaway",
         "United States",
         "Insurance",
         "371.43",
         "89.0",
         "1153.88",
         "1145.46",
         "0.23961446302129608",
         "0.992702880715499",
         "0.3218965577009741"
        ],
        [
         "2",
         "3",
         "ICBC",
         "China",
         "Banking",
         "221.96",
         "50.84",
         "6688.6",
         "251.33",
         "0.22905027932960895",
         "0.03757587537003259",
         "0.03318482193583112"
        ],
        [
         "3",
         "4",
         "Saudi Arabian Oil Company (Saudi Aramco)",
         "Saudi Arabia",
         "Oil & Gas Operations",
         "480.15",
         "104.97",
         "645.03",
         "1663.38",
         "0.21861918150577944",
         "2.5787637784289106",
         "0.7443839821403656"
        ],
        [
         "4",
         "5",
         "Amazon",
         "United States",
         "Retail and Wholesale",
         "637.96",
         "59.25",
         "624.89",
         "2005.64",
         "0.0928741613894288",
         "3.209588887644226",
         "1.0209156811598843"
        ]
       ],
       "shape": {
        "columns": 11,
        "rows": 5
       }
      },
      "text/html": [
       "<div>\n",
       "<style scoped>\n",
       "    .dataframe tbody tr th:only-of-type {\n",
       "        vertical-align: middle;\n",
       "    }\n",
       "\n",
       "    .dataframe tbody tr th {\n",
       "        vertical-align: top;\n",
       "    }\n",
       "\n",
       "    .dataframe thead th {\n",
       "        text-align: right;\n",
       "    }\n",
       "</style>\n",
       "<table border=\"1\" class=\"dataframe\">\n",
       "  <thead>\n",
       "    <tr style=\"text-align: right;\">\n",
       "      <th></th>\n",
       "      <th>rank</th>\n",
       "      <th>company</th>\n",
       "      <th>headquarters</th>\n",
       "      <th>industry</th>\n",
       "      <th>sales__$b_</th>\n",
       "      <th>profit__$b_</th>\n",
       "      <th>assets__$b_</th>\n",
       "      <th>market_value__$b_</th>\n",
       "      <th>profit_margin</th>\n",
       "      <th>market_to_assets</th>\n",
       "      <th>asset_turnover</th>\n",
       "    </tr>\n",
       "  </thead>\n",
       "  <tbody>\n",
       "    <tr>\n",
       "      <th>0</th>\n",
       "      <td>1</td>\n",
       "      <td>JPMorganChase</td>\n",
       "      <td>United States</td>\n",
       "      <td>Banking</td>\n",
       "      <td>285.1100</td>\n",
       "      <td>59.3600</td>\n",
       "      <td>4,357.8600</td>\n",
       "      <td>677.8000</td>\n",
       "      <td>0.2082</td>\n",
       "      <td>0.1555</td>\n",
       "      <td>0.0654</td>\n",
       "    </tr>\n",
       "    <tr>\n",
       "      <th>1</th>\n",
       "      <td>2</td>\n",
       "      <td>Berkshire Hathaway</td>\n",
       "      <td>United States</td>\n",
       "      <td>Insurance</td>\n",
       "      <td>371.4300</td>\n",
       "      <td>89.0000</td>\n",
       "      <td>1,153.8800</td>\n",
       "      <td>1,145.4600</td>\n",
       "      <td>0.2396</td>\n",
       "      <td>0.9927</td>\n",
       "      <td>0.3219</td>\n",
       "    </tr>\n",
       "    <tr>\n",
       "      <th>2</th>\n",
       "      <td>3</td>\n",
       "      <td>ICBC</td>\n",
       "      <td>China</td>\n",
       "      <td>Banking</td>\n",
       "      <td>221.9600</td>\n",
       "      <td>50.8400</td>\n",
       "      <td>6,688.6000</td>\n",
       "      <td>251.3300</td>\n",
       "      <td>0.2291</td>\n",
       "      <td>0.0376</td>\n",
       "      <td>0.0332</td>\n",
       "    </tr>\n",
       "    <tr>\n",
       "      <th>3</th>\n",
       "      <td>4</td>\n",
       "      <td>Saudi Arabian Oil Company (Saudi Aramco)</td>\n",
       "      <td>Saudi Arabia</td>\n",
       "      <td>Oil &amp; Gas Operations</td>\n",
       "      <td>480.1500</td>\n",
       "      <td>104.9700</td>\n",
       "      <td>645.0300</td>\n",
       "      <td>1,663.3800</td>\n",
       "      <td>0.2186</td>\n",
       "      <td>2.5788</td>\n",
       "      <td>0.7444</td>\n",
       "    </tr>\n",
       "    <tr>\n",
       "      <th>4</th>\n",
       "      <td>5</td>\n",
       "      <td>Amazon</td>\n",
       "      <td>United States</td>\n",
       "      <td>Retail and Wholesale</td>\n",
       "      <td>637.9600</td>\n",
       "      <td>59.2500</td>\n",
       "      <td>624.8900</td>\n",
       "      <td>2,005.6400</td>\n",
       "      <td>0.0929</td>\n",
       "      <td>3.2096</td>\n",
       "      <td>1.0209</td>\n",
       "    </tr>\n",
       "  </tbody>\n",
       "</table>\n",
       "</div>"
      ],
      "text/plain": [
       "   rank                                   company   headquarters  \\\n",
       "0     1                             JPMorganChase  United States   \n",
       "1     2                        Berkshire Hathaway  United States   \n",
       "2     3                                      ICBC          China   \n",
       "3     4  Saudi Arabian Oil Company (Saudi Aramco)   Saudi Arabia   \n",
       "4     5                                    Amazon  United States   \n",
       "\n",
       "               industry  sales__$b_  profit__$b_  assets__$b_  \\\n",
       "0               Banking    285.1100      59.3600   4,357.8600   \n",
       "1             Insurance    371.4300      89.0000   1,153.8800   \n",
       "2               Banking    221.9600      50.8400   6,688.6000   \n",
       "3  Oil & Gas Operations    480.1500     104.9700     645.0300   \n",
       "4  Retail and Wholesale    637.9600      59.2500     624.8900   \n",
       "\n",
       "   market_value__$b_  profit_margin  market_to_assets  asset_turnover  \n",
       "0           677.8000         0.2082            0.1555          0.0654  \n",
       "1         1,145.4600         0.2396            0.9927          0.3219  \n",
       "2           251.3300         0.2291            0.0376          0.0332  \n",
       "3         1,663.3800         0.2186            2.5788          0.7444  \n",
       "4         2,005.6400         0.0929            3.2096          1.0209  "
      ]
     },
     "execution_count": 4,
     "metadata": {},
     "output_type": "execute_result"
    }
   ],
   "source": [
    "# === 4) Transformaciones ===\n",
    "def find_col(alias_list):\n",
    "    for col in df.columns:\n",
    "        for a in alias_list:\n",
    "            if a in col:\n",
    "                return col\n",
    "    return None\n",
    "\n",
    "sales_col   = find_col([\"sales\", \"revenue\"])\n",
    "profits_col = find_col([\"profit\", \"net_income\"])\n",
    "assets_col  = find_col([\"asset\"])\n",
    "mv_col      = find_col([\"market_value\", \"market_cap\"])\n",
    "\n",
    "if profits_col and sales_col:\n",
    "    df[\"profit_margin\"] = df[profits_col] / df[sales_col]\n",
    "if mv_col and assets_col:\n",
    "    df[\"market_to_assets\"] = df[mv_col] / df[assets_col]\n",
    "if sales_col and assets_col:\n",
    "    df[\"asset_turnover\"] = df[sales_col] / df[assets_col]\n",
    "\n",
    "df.head()\n"
   ]
  },
  {
   "cell_type": "markdown",
   "id": "23c94a31",
   "metadata": {},
   "source": [
    "## 5. Exploratorio Inicial (40%)\n",
    "\n",
    "Incluye:\n",
    "- Estadísticas descriptivas de variables numéricas.  \n",
    "- Histogramas (univariado).  \n",
    "- Conteos por categorías principales (país/industria si existen).  \n",
    "- Dispersión (bivariado) y matriz de correlación.  \n"
   ]
  },
  {
   "cell_type": "code",
   "execution_count": 5,
   "id": "9a3896b8",
   "metadata": {},
   "outputs": [
    {
     "data": {
      "application/vnd.microsoft.datawrangler.viewer.v0+json": {
       "columns": [
        {
         "name": "index",
         "rawType": "object",
         "type": "string"
        },
        {
         "name": "count",
         "rawType": "float64",
         "type": "float"
        },
        {
         "name": "mean",
         "rawType": "float64",
         "type": "float"
        },
        {
         "name": "std",
         "rawType": "float64",
         "type": "float"
        },
        {
         "name": "min",
         "rawType": "float64",
         "type": "float"
        },
        {
         "name": "25%",
         "rawType": "float64",
         "type": "float"
        },
        {
         "name": "50%",
         "rawType": "float64",
         "type": "float"
        },
        {
         "name": "75%",
         "rawType": "float64",
         "type": "float"
        },
        {
         "name": "max",
         "rawType": "float64",
         "type": "float"
        }
       ],
       "ref": "88fd5ff9-f565-4c0b-925c-d2df173526c6",
       "rows": [
        [
         "rank",
         "2000.0",
         "1000.331",
         "577.4300530558536",
         "1.0",
         "500.75",
         "1000.5",
         "1500.25",
         "1998.0"
        ],
        [
         "sales__$b_",
         "2000.0",
         "26.44163",
         "47.92810514048393",
         "-21.47",
         "6.1475",
         "12.95",
         "25.7075",
         "680.99"
        ],
        [
         "profit__$b_",
         "1998.0",
         "2.4371011511511513",
         "6.862870642488967",
         "-21.65",
         "0.52115",
         "1.01",
         "2.2375000000000003",
         "111.0"
        ],
        [
         "assets__$b_",
         "2000.0",
         "121.087279",
         "395.75487796017757",
         "0.181",
         "15.754999999999999",
         "33.875",
         "78.82",
         "6688.6"
        ],
        [
         "market_value__$b_",
         "2000.0",
         "45.64175550000001",
         "154.51182100532623",
         "0.175",
         "8.307500000000001",
         "17.205",
         "37.347500000000004",
         "3143.82"
        ],
        [
         "profit_margin",
         "1998.0",
         "inf",
         null,
         "-2.5269978401727857",
         "0.040575703289863214",
         "0.10072793890433937",
         "0.18412365449620022",
         "inf"
        ],
        [
         "market_to_assets",
         "2000.0",
         "1.3424024931671354",
         "3.068082936002525",
         "0.0004083882955914484",
         "0.14414663268292055",
         "0.5210215911739483",
         "1.3943525766470972",
         "73.21981424148606"
        ],
        [
         "asset_turnover",
         "2000.0",
         "0.6090806160213613",
         "0.6969395998391639",
         "-0.4825803551359856",
         "0.14355448949192712",
         "0.4628377891902377",
         "0.8030421101189495",
         "12.35144927536232"
        ]
       ],
       "shape": {
        "columns": 8,
        "rows": 8
       }
      },
      "text/html": [
       "<div>\n",
       "<style scoped>\n",
       "    .dataframe tbody tr th:only-of-type {\n",
       "        vertical-align: middle;\n",
       "    }\n",
       "\n",
       "    .dataframe tbody tr th {\n",
       "        vertical-align: top;\n",
       "    }\n",
       "\n",
       "    .dataframe thead th {\n",
       "        text-align: right;\n",
       "    }\n",
       "</style>\n",
       "<table border=\"1\" class=\"dataframe\">\n",
       "  <thead>\n",
       "    <tr style=\"text-align: right;\">\n",
       "      <th></th>\n",
       "      <th>count</th>\n",
       "      <th>mean</th>\n",
       "      <th>std</th>\n",
       "      <th>min</th>\n",
       "      <th>25%</th>\n",
       "      <th>50%</th>\n",
       "      <th>75%</th>\n",
       "      <th>max</th>\n",
       "    </tr>\n",
       "  </thead>\n",
       "  <tbody>\n",
       "    <tr>\n",
       "      <th>rank</th>\n",
       "      <td>2,000.0000</td>\n",
       "      <td>1,000.3310</td>\n",
       "      <td>577.4301</td>\n",
       "      <td>1.0000</td>\n",
       "      <td>500.7500</td>\n",
       "      <td>1,000.5000</td>\n",
       "      <td>1,500.2500</td>\n",
       "      <td>1,998.0000</td>\n",
       "    </tr>\n",
       "    <tr>\n",
       "      <th>sales__$b_</th>\n",
       "      <td>2,000.0000</td>\n",
       "      <td>26.4416</td>\n",
       "      <td>47.9281</td>\n",
       "      <td>-21.4700</td>\n",
       "      <td>6.1475</td>\n",
       "      <td>12.9500</td>\n",
       "      <td>25.7075</td>\n",
       "      <td>680.9900</td>\n",
       "    </tr>\n",
       "    <tr>\n",
       "      <th>profit__$b_</th>\n",
       "      <td>1,998.0000</td>\n",
       "      <td>2.4371</td>\n",
       "      <td>6.8629</td>\n",
       "      <td>-21.6500</td>\n",
       "      <td>0.5212</td>\n",
       "      <td>1.0100</td>\n",
       "      <td>2.2375</td>\n",
       "      <td>111.0000</td>\n",
       "    </tr>\n",
       "    <tr>\n",
       "      <th>assets__$b_</th>\n",
       "      <td>2,000.0000</td>\n",
       "      <td>121.0873</td>\n",
       "      <td>395.7549</td>\n",
       "      <td>0.1810</td>\n",
       "      <td>15.7550</td>\n",
       "      <td>33.8750</td>\n",
       "      <td>78.8200</td>\n",
       "      <td>6,688.6000</td>\n",
       "    </tr>\n",
       "    <tr>\n",
       "      <th>market_value__$b_</th>\n",
       "      <td>2,000.0000</td>\n",
       "      <td>45.6418</td>\n",
       "      <td>154.5118</td>\n",
       "      <td>0.1750</td>\n",
       "      <td>8.3075</td>\n",
       "      <td>17.2050</td>\n",
       "      <td>37.3475</td>\n",
       "      <td>3,143.8200</td>\n",
       "    </tr>\n",
       "    <tr>\n",
       "      <th>profit_margin</th>\n",
       "      <td>1,998.0000</td>\n",
       "      <td>inf</td>\n",
       "      <td>NaN</td>\n",
       "      <td>-2.5270</td>\n",
       "      <td>0.0406</td>\n",
       "      <td>0.1007</td>\n",
       "      <td>0.1841</td>\n",
       "      <td>inf</td>\n",
       "    </tr>\n",
       "    <tr>\n",
       "      <th>market_to_assets</th>\n",
       "      <td>2,000.0000</td>\n",
       "      <td>1.3424</td>\n",
       "      <td>3.0681</td>\n",
       "      <td>0.0004</td>\n",
       "      <td>0.1441</td>\n",
       "      <td>0.5210</td>\n",
       "      <td>1.3944</td>\n",
       "      <td>73.2198</td>\n",
       "    </tr>\n",
       "    <tr>\n",
       "      <th>asset_turnover</th>\n",
       "      <td>2,000.0000</td>\n",
       "      <td>0.6091</td>\n",
       "      <td>0.6969</td>\n",
       "      <td>-0.4826</td>\n",
       "      <td>0.1436</td>\n",
       "      <td>0.4628</td>\n",
       "      <td>0.8030</td>\n",
       "      <td>12.3514</td>\n",
       "    </tr>\n",
       "  </tbody>\n",
       "</table>\n",
       "</div>"
      ],
      "text/plain": [
       "                       count       mean      std      min      25%        50%  \\\n",
       "rank              2,000.0000 1,000.3310 577.4301   1.0000 500.7500 1,000.5000   \n",
       "sales__$b_        2,000.0000    26.4416  47.9281 -21.4700   6.1475    12.9500   \n",
       "profit__$b_       1,998.0000     2.4371   6.8629 -21.6500   0.5212     1.0100   \n",
       "assets__$b_       2,000.0000   121.0873 395.7549   0.1810  15.7550    33.8750   \n",
       "market_value__$b_ 2,000.0000    45.6418 154.5118   0.1750   8.3075    17.2050   \n",
       "profit_margin     1,998.0000        inf      NaN  -2.5270   0.0406     0.1007   \n",
       "market_to_assets  2,000.0000     1.3424   3.0681   0.0004   0.1441     0.5210   \n",
       "asset_turnover    2,000.0000     0.6091   0.6969  -0.4826   0.1436     0.4628   \n",
       "\n",
       "                         75%        max  \n",
       "rank              1,500.2500 1,998.0000  \n",
       "sales__$b_           25.7075   680.9900  \n",
       "profit__$b_           2.2375   111.0000  \n",
       "assets__$b_          78.8200 6,688.6000  \n",
       "market_value__$b_    37.3475 3,143.8200  \n",
       "profit_margin         0.1841        inf  \n",
       "market_to_assets      1.3944    73.2198  \n",
       "asset_turnover        0.8030    12.3514  "
      ]
     },
     "execution_count": 5,
     "metadata": {},
     "output_type": "execute_result"
    }
   ],
   "source": [
    "# === 5.1 Descriptivas ===\n",
    "numeric_cols = [c for c in df.columns if pd.api.types.is_numeric_dtype(df[c])]\n",
    "df[numeric_cols].describe().T if numeric_cols else pd.DataFrame()\n"
   ]
  },
  {
   "cell_type": "code",
   "execution_count": 6,
   "id": "e59159a9",
   "metadata": {},
   "outputs": [
    {
     "data": {
      "image/png": "[encoded data removed]",
      "text/plain": [
       "<Figure size 640x480 with 1 Axes>"
      ]
     },
     "metadata": {},
     "output_type": "display_data"
    },
    {
     "data": {
      "image/png": "[encoded data removed]",
      "text/plain": [
       "<Figure size 640x480 with 1 Axes>"
      ]
     },
     "metadata": {},
     "output_type": "display_data"
    },
    {
     "data": {
      "image/png": "[encoded data removed]",
      "text/plain": [
       "<Figure size 640x480 with 1 Axes>"
      ]
     },
     "metadata": {},
     "output_type": "display_data"
    },
    {
     "data": {
      "image/png": "[encoded data removed]",
      "text/plain": [
       "<Figure size 640x480 with 1 Axes>"
      ]
     },
     "metadata": {},
     "output_type": "display_data"
    },
    {
     "data": {
      "image/png": "[encoded data removed]",
      "text/plain": [
       "<Figure size 640x480 with 1 Axes>"
      ]
     },
     "metadata": {},
     "output_type": "display_data"
    },
    {
     "ename": "ValueError",
     "evalue": "supplied range of [-2.5269978401727857, inf] is not finite",
     "output_type": "error",
     "traceback": [
      "\u001b[1;31m---------------------------------------------------------------------------\u001b[0m",
      "\u001b[1;31mValueError\u001b[0m                                Traceback (most recent call last)",
      "Cell \u001b[1;32mIn[6], line 7\u001b[0m\n\u001b[0;32m      5\u001b[0m \u001b[38;5;28;01mfor\u001b[39;00m c \u001b[38;5;129;01min\u001b[39;00m to_plot:\n\u001b[0;32m      6\u001b[0m     plt\u001b[38;5;241m.\u001b[39mfigure()\n\u001b[1;32m----> 7\u001b[0m     plt\u001b[38;5;241m.\u001b[39mhist(df[c]\u001b[38;5;241m.\u001b[39mdropna(), bins\u001b[38;5;241m=\u001b[39m\u001b[38;5;241m30\u001b[39m)\n\u001b[0;32m      8\u001b[0m     plt\u001b[38;5;241m.\u001b[39mtitle(\u001b[38;5;124mf\u001b[39m\u001b[38;5;124m\"\u001b[39m\u001b[38;5;124mHistograma: \u001b[39m\u001b[38;5;132;01m{\u001b[39;00mc\u001b[38;5;132;01m}\u001b[39;00m\u001b[38;5;124m\"\u001b[39m)\n\u001b[0;32m      9\u001b[0m     plt\u001b[38;5;241m.\u001b[39mxlabel(c); plt\u001b[38;5;241m.\u001b[39mylabel(\u001b[38;5;124m\"\u001b[39m\u001b[38;5;124mFrecuencia\u001b[39m\u001b[38;5;124m\"\u001b[39m)\n",
      "File \u001b[1;32mc:\\Users\\seboc\\anaconda3\\Lib\\site-packages\\matplotlib\\pyplot.py:3440\u001b[0m, in \u001b[0;36mhist\u001b[1;34m(x, bins, range, density, weights, cumulative, bottom, histtype, align, orientation, rwidth, log, color, label, stacked, data, **kwargs)\u001b[0m\n\u001b[0;32m   3415\u001b[0m \u001b[38;5;129m@_copy_docstring_and_deprecators\u001b[39m(Axes\u001b[38;5;241m.\u001b[39mhist)\n\u001b[0;32m   3416\u001b[0m \u001b[38;5;28;01mdef\u001b[39;00m \u001b[38;5;21mhist\u001b[39m(\n\u001b[0;32m   3417\u001b[0m     x: ArrayLike \u001b[38;5;241m|\u001b[39m Sequence[ArrayLike],\n\u001b[1;32m   (...)\u001b[0m\n\u001b[0;32m   3438\u001b[0m     BarContainer \u001b[38;5;241m|\u001b[39m Polygon \u001b[38;5;241m|\u001b[39m \u001b[38;5;28mlist\u001b[39m[BarContainer \u001b[38;5;241m|\u001b[39m Polygon],\n\u001b[0;32m   3439\u001b[0m ]:\n\u001b[1;32m-> 3440\u001b[0m     \u001b[38;5;28;01mreturn\u001b[39;00m gca()\u001b[38;5;241m.\u001b[39mhist(\n\u001b[0;32m   3441\u001b[0m         x,\n\u001b[0;32m   3442\u001b[0m         bins\u001b[38;5;241m=\u001b[39mbins,\n\u001b[0;32m   3443\u001b[0m         \u001b[38;5;28mrange\u001b[39m\u001b[38;5;241m=\u001b[39m\u001b[38;5;28mrange\u001b[39m,\n\u001b[0;32m   3444\u001b[0m         density\u001b[38;5;241m=\u001b[39mdensity,\n\u001b[0;32m   3445\u001b[0m         weights\u001b[38;5;241m=\u001b[39mweights,\n\u001b[0;32m   3446\u001b[0m         cumulative\u001b[38;5;241m=\u001b[39mcumulative,\n\u001b[0;32m   3447\u001b[0m         bottom\u001b[38;5;241m=\u001b[39mbottom,\n\u001b[0;32m   3448\u001b[0m         histtype\u001b[38;5;241m=\u001b[39mhisttype,\n\u001b[0;32m   3449\u001b[0m         align\u001b[38;5;241m=\u001b[39malign,\n\u001b[0;32m   3450\u001b[0m         orientation\u001b[38;5;241m=\u001b[39morientation,\n\u001b[0;32m   3451\u001b[0m         rwidth\u001b[38;5;241m=\u001b[39mrwidth,\n\u001b[0;32m   3452\u001b[0m         log\u001b[38;5;241m=\u001b[39mlog,\n\u001b[0;32m   3453\u001b[0m         color\u001b[38;5;241m=\u001b[39mcolor,\n\u001b[0;32m   3454\u001b[0m         label\u001b[38;5;241m=\u001b[39mlabel,\n\u001b[0;32m   3455\u001b[0m         stacked\u001b[38;5;241m=\u001b[39mstacked,\n\u001b[0;32m   3456\u001b[0m         \u001b[38;5;241m*\u001b[39m\u001b[38;5;241m*\u001b[39m({\u001b[38;5;124m\"\u001b[39m\u001b[38;5;124mdata\u001b[39m\u001b[38;5;124m\"\u001b[39m: data} \u001b[38;5;28;01mif\u001b[39;00m data \u001b[38;5;129;01mis\u001b[39;00m \u001b[38;5;129;01mnot\u001b[39;00m \u001b[38;5;28;01mNone\u001b[39;00m \u001b[38;5;28;01melse\u001b[39;00m {}),\n\u001b[0;32m   3457\u001b[0m         \u001b[38;5;241m*\u001b[39m\u001b[38;5;241m*\u001b[39mkwargs,\n\u001b[0;32m   3458\u001b[0m     )\n",
      "File \u001b[1;32mc:\\Users\\seboc\\anaconda3\\Lib\\site-packages\\matplotlib\\__init__.py:1473\u001b[0m, in \u001b[0;36m_preprocess_data.<locals>.inner\u001b[1;34m(ax, data, *args, **kwargs)\u001b[0m\n\u001b[0;32m   1470\u001b[0m \u001b[38;5;129m@functools\u001b[39m\u001b[38;5;241m.\u001b[39mwraps(func)\n\u001b[0;32m   1471\u001b[0m \u001b[38;5;28;01mdef\u001b[39;00m \u001b[38;5;21minner\u001b[39m(ax, \u001b[38;5;241m*\u001b[39margs, data\u001b[38;5;241m=\u001b[39m\u001b[38;5;28;01mNone\u001b[39;00m, \u001b[38;5;241m*\u001b[39m\u001b[38;5;241m*\u001b[39mkwargs):\n\u001b[0;32m   1472\u001b[0m     \u001b[38;5;28;01mif\u001b[39;00m data \u001b[38;5;129;01mis\u001b[39;00m \u001b[38;5;28;01mNone\u001b[39;00m:\n\u001b[1;32m-> 1473\u001b[0m         \u001b[38;5;28;01mreturn\u001b[39;00m func(\n\u001b[0;32m   1474\u001b[0m             ax,\n\u001b[0;32m   1475\u001b[0m             \u001b[38;5;241m*\u001b[39m\u001b[38;5;28mmap\u001b[39m(sanitize_sequence, args),\n\u001b[0;32m   1476\u001b[0m             \u001b[38;5;241m*\u001b[39m\u001b[38;5;241m*\u001b[39m{k: sanitize_sequence(v) \u001b[38;5;28;01mfor\u001b[39;00m k, v \u001b[38;5;129;01min\u001b[39;00m kwargs\u001b[38;5;241m.\u001b[39mitems()})\n\u001b[0;32m   1478\u001b[0m     bound \u001b[38;5;241m=\u001b[39m new_sig\u001b[38;5;241m.\u001b[39mbind(ax, \u001b[38;5;241m*\u001b[39margs, \u001b[38;5;241m*\u001b[39m\u001b[38;5;241m*\u001b[39mkwargs)\n\u001b[0;32m   1479\u001b[0m     auto_label \u001b[38;5;241m=\u001b[39m (bound\u001b[38;5;241m.\u001b[39marguments\u001b[38;5;241m.\u001b[39mget(label_namer)\n\u001b[0;32m   1480\u001b[0m                   \u001b[38;5;129;01mor\u001b[39;00m bound\u001b[38;5;241m.\u001b[39mkwargs\u001b[38;5;241m.\u001b[39mget(label_namer))\n",
      "File \u001b[1;32mc:\\Users\\seboc\\anaconda3\\Lib\\site-packages\\matplotlib\\axes\\_axes.py:7001\u001b[0m, in \u001b[0;36mAxes.hist\u001b[1;34m(self, x, bins, range, density, weights, cumulative, bottom, histtype, align, orientation, rwidth, log, color, label, stacked, **kwargs)\u001b[0m\n\u001b[0;32m   6997\u001b[0m \u001b[38;5;66;03m# Loop through datasets\u001b[39;00m\n\u001b[0;32m   6998\u001b[0m \u001b[38;5;28;01mfor\u001b[39;00m i \u001b[38;5;129;01min\u001b[39;00m \u001b[38;5;28mrange\u001b[39m(nx):\n\u001b[0;32m   6999\u001b[0m     \u001b[38;5;66;03m# this will automatically overwrite bins,\u001b[39;00m\n\u001b[0;32m   7000\u001b[0m     \u001b[38;5;66;03m# so that each histogram uses the same bins\u001b[39;00m\n\u001b[1;32m-> 7001\u001b[0m     m, bins \u001b[38;5;241m=\u001b[39m np\u001b[38;5;241m.\u001b[39mhistogram(x[i], bins, weights\u001b[38;5;241m=\u001b[39mw[i], \u001b[38;5;241m*\u001b[39m\u001b[38;5;241m*\u001b[39mhist_kwargs)\n\u001b[0;32m   7002\u001b[0m     tops\u001b[38;5;241m.\u001b[39mappend(m)\n\u001b[0;32m   7003\u001b[0m tops \u001b[38;5;241m=\u001b[39m np\u001b[38;5;241m.\u001b[39marray(tops, \u001b[38;5;28mfloat\u001b[39m)  \u001b[38;5;66;03m# causes problems later if it's an int\u001b[39;00m\n",
      "File \u001b[1;32mc:\\Users\\seboc\\anaconda3\\Lib\\site-packages\\numpy\\lib\\histograms.py:780\u001b[0m, in \u001b[0;36mhistogram\u001b[1;34m(a, bins, range, density, weights)\u001b[0m\n\u001b[0;32m    680\u001b[0m \u001b[38;5;250m\u001b[39m\u001b[38;5;124mr\u001b[39m\u001b[38;5;124;03m\"\"\"\u001b[39;00m\n\u001b[0;32m    681\u001b[0m \u001b[38;5;124;03mCompute the histogram of a dataset.\u001b[39;00m\n\u001b[0;32m    682\u001b[0m \n\u001b[1;32m   (...)\u001b[0m\n\u001b[0;32m    776\u001b[0m \n\u001b[0;32m    777\u001b[0m \u001b[38;5;124;03m\"\"\"\u001b[39;00m\n\u001b[0;32m    778\u001b[0m a, weights \u001b[38;5;241m=\u001b[39m _ravel_and_check_weights(a, weights)\n\u001b[1;32m--> 780\u001b[0m bin_edges, uniform_bins \u001b[38;5;241m=\u001b[39m _get_bin_edges(a, bins, \u001b[38;5;28mrange\u001b[39m, weights)\n\u001b[0;32m    782\u001b[0m \u001b[38;5;66;03m# Histogram is an integer or a float array depending on the weights.\u001b[39;00m\n\u001b[0;32m    783\u001b[0m \u001b[38;5;28;01mif\u001b[39;00m weights \u001b[38;5;129;01mis\u001b[39;00m \u001b[38;5;28;01mNone\u001b[39;00m:\n",
      "File \u001b[1;32mc:\\Users\\seboc\\anaconda3\\Lib\\site-packages\\numpy\\lib\\histograms.py:426\u001b[0m, in \u001b[0;36m_get_bin_edges\u001b[1;34m(a, bins, range, weights)\u001b[0m\n\u001b[0;32m    423\u001b[0m     \u001b[38;5;28;01mif\u001b[39;00m n_equal_bins \u001b[38;5;241m<\u001b[39m \u001b[38;5;241m1\u001b[39m:\n\u001b[0;32m    424\u001b[0m         \u001b[38;5;28;01mraise\u001b[39;00m \u001b[38;5;167;01mValueError\u001b[39;00m(\u001b[38;5;124m'\u001b[39m\u001b[38;5;124m`bins` must be positive, when an integer\u001b[39m\u001b[38;5;124m'\u001b[39m)\n\u001b[1;32m--> 426\u001b[0m     first_edge, last_edge \u001b[38;5;241m=\u001b[39m _get_outer_edges(a, \u001b[38;5;28mrange\u001b[39m)\n\u001b[0;32m    428\u001b[0m \u001b[38;5;28;01melif\u001b[39;00m np\u001b[38;5;241m.\u001b[39mndim(bins) \u001b[38;5;241m==\u001b[39m \u001b[38;5;241m1\u001b[39m:\n\u001b[0;32m    429\u001b[0m     bin_edges \u001b[38;5;241m=\u001b[39m np\u001b[38;5;241m.\u001b[39masarray(bins)\n",
      "File \u001b[1;32mc:\\Users\\seboc\\anaconda3\\Lib\\site-packages\\numpy\\lib\\histograms.py:315\u001b[0m, in \u001b[0;36m_get_outer_edges\u001b[1;34m(a, range)\u001b[0m\n\u001b[0;32m    312\u001b[0m         \u001b[38;5;28;01mraise\u001b[39;00m \u001b[38;5;167;01mValueError\u001b[39;00m(\n\u001b[0;32m    313\u001b[0m             \u001b[38;5;124m'\u001b[39m\u001b[38;5;124mmax must be larger than min in range parameter.\u001b[39m\u001b[38;5;124m'\u001b[39m)\n\u001b[0;32m    314\u001b[0m     \u001b[38;5;28;01mif\u001b[39;00m \u001b[38;5;129;01mnot\u001b[39;00m (np\u001b[38;5;241m.\u001b[39misfinite(first_edge) \u001b[38;5;129;01mand\u001b[39;00m np\u001b[38;5;241m.\u001b[39misfinite(last_edge)):\n\u001b[1;32m--> 315\u001b[0m         \u001b[38;5;28;01mraise\u001b[39;00m \u001b[38;5;167;01mValueError\u001b[39;00m(\n\u001b[0;32m    316\u001b[0m             \u001b[38;5;124m\"\u001b[39m\u001b[38;5;124msupplied range of [\u001b[39m\u001b[38;5;132;01m{}\u001b[39;00m\u001b[38;5;124m, \u001b[39m\u001b[38;5;132;01m{}\u001b[39;00m\u001b[38;5;124m] is not finite\u001b[39m\u001b[38;5;124m\"\u001b[39m\u001b[38;5;241m.\u001b[39mformat(first_edge, last_edge))\n\u001b[0;32m    317\u001b[0m \u001b[38;5;28;01melif\u001b[39;00m a\u001b[38;5;241m.\u001b[39msize \u001b[38;5;241m==\u001b[39m \u001b[38;5;241m0\u001b[39m:\n\u001b[0;32m    318\u001b[0m     \u001b[38;5;66;03m# handle empty arrays. Can't determine range, so use 0-1.\u001b[39;00m\n\u001b[0;32m    319\u001b[0m     first_edge, last_edge \u001b[38;5;241m=\u001b[39m \u001b[38;5;241m0\u001b[39m, \u001b[38;5;241m1\u001b[39m\n",
      "\u001b[1;31mValueError\u001b[0m: supplied range of [-2.5269978401727857, inf] is not finite"
     ]
    },
    {
     "data": {
      "image/png": "[encoded data removed]",
      "text/plain": [
       "<Figure size 640x480 with 1 Axes>"
      ]
     },
     "metadata": {},
     "output_type": "display_data"
    }
   ],
   "source": [
    "# === 5.2 Univariado: histogramas ===\n",
    "import matplotlib.pyplot as plt\n",
    "\n",
    "to_plot = numeric_cols[:6]  # limitar a 6 para evitar exceso\n",
    "for c in to_plot:\n",
    "    plt.figure()\n",
    "    plt.hist(df[c].dropna(), bins=30)\n",
    "    plt.title(f\"Histograma: {c}\")\n",
    "    plt.xlabel(c); plt.ylabel(\"Frecuencia\")\n",
    "    plt.show()\n",
    "\n",
    "# Categóricas (industry/sector/country) si existen\n",
    "cat_cols = [c for c in df.columns if df[c].dtype == object]\n",
    "def first_match(aliases):\n",
    "    for col in cat_cols:\n",
    "        for a in aliases:\n",
    "            if a in col:\n",
    "                return col\n",
    "    return None\n",
    "\n",
    "industry_col = first_match([\"industry\", \"sector\"])\n",
    "country_col  = first_match([\"country\"])\n",
    "\n",
    "for target in [industry_col, country_col]:\n",
    "    if target:\n",
    "        counts = df[target].value_counts().head(15)\n",
    "        plt.figure()\n",
    "        counts.plot(kind=\"bar\")\n",
    "        plt.title(f\"Top 15 {target} por frecuencia\")\n",
    "        plt.xlabel(target); plt.ylabel(\"Conteo\")\n",
    "        plt.tight_layout()\n",
    "        plt.show()\n"
   ]
  },
  {
   "cell_type": "code",
   "execution_count": null,
   "id": "a06571a2",
   "metadata": {},
   "outputs": [],
   "source": [
    "# === 5.3 Bivariado: scatter ===\n",
    "def resolve_col(alias_options):\n",
    "    for col in df.columns:\n",
    "        for alias in alias_options:\n",
    "            if alias in col:\n",
    "                return col\n",
    "    return None\n",
    "\n",
    "assets_real = resolve_col([\"asset\"])\n",
    "mv_real     = resolve_col([\"market_value\", \"market_cap\"])\n",
    "sales_real  = resolve_col([\"sales\", \"revenue\"])\n",
    "profits_real= resolve_col([\"profit\", \"net_income\"])\n",
    "\n",
    "def scatter_if_exists(xc, yc, title):\n",
    "    if xc and yc and pd.api.types.is_numeric_dtype(df[xc]) and pd.api.types.is_numeric_dtype(df[yc]):\n",
    "        plt.figure()\n",
    "        plt.scatter(df[xc], df[yc], alpha=0.6)\n",
    "        plt.title(title)\n",
    "        plt.xlabel(xc); plt.ylabel(yc)\n",
    "        plt.tight_layout()\n",
    "        plt.show()\n",
    "\n",
    "scatter_if_exists(assets_real, mv_real, f\"Scatter: {assets_real} vs {mv_real}\")\n",
    "scatter_if_exists(sales_real, profits_real, f\"Scatter: {sales_real} vs {profits_real}\")\n"
   ]
  },
  {
   "cell_type": "code",
   "execution_count": null,
   "id": "8028f72c",
   "metadata": {},
   "outputs": [],
   "source": [
    "# === 5.4 Correlaciones ===\n",
    "if len(numeric_cols) >= 2:\n",
    "    corr = df[numeric_cols].corr(numeric_only=True)\n",
    "    plt.figure(figsize=(8,6))\n",
    "    plt.imshow(corr, aspect='auto')\n",
    "    plt.colorbar()\n",
    "    plt.xticks(range(len(corr.columns)), corr.columns, rotation=90)\n",
    "    plt.yticks(range(len(corr.index)), corr.index)\n",
    "    plt.title(\"Matriz de correlaciones (numéricas)\")\n",
    "    plt.tight_layout()\n",
    "    plt.show()\n",
    "\n",
    "    corr_abs = corr.abs().copy()\n",
    "    corr_abs.values[np.tril_indices_from(corr_abs)] = np.nan\n",
    "    top_pairs = (\n",
    "        corr_abs.unstack()\n",
    "        .dropna()\n",
    "        .sort_values(ascending=False)\n",
    "        .head(10)\n",
    "    )\n",
    "    print(\"Top correlaciones absolutas:\")\n",
    "    display(top_pairs)\n",
    "else:\n",
    "    print(\"No hay suficientes columnas numéricas para una correlación útil.\")\n"
   ]
  },
  {
   "cell_type": "code",
   "execution_count": null,
   "id": "8cb5cc10",
   "metadata": {},
   "outputs": [],
   "source": [
    "# === 5.5 Resúmenes por grupo (industry/country) ===\n",
    "def first_match_col(aliases):\n",
    "    for col in df.columns:\n",
    "        for a in aliases:\n",
    "            if a in col:\n",
    "                return col\n",
    "    return None\n",
    "\n",
    "industry_col = first_match_col([\"industry\", \"sector\"])\n",
    "country_col  = first_match_col([\"country\"])\n",
    "\n",
    "metrics = [c for c in [\"sales\",\"profits\",\"assets\",\"market_value\",\"profit_margin\",\"market_to_assets\",\"asset_turnover\"] if c in df.columns]\n",
    "if industry_col and metrics:\n",
    "    display(df.groupby(industry_col)[metrics].mean(numeric_only=True).sort_values(by=metrics[0], ascending=False).head(15))\n",
    "if country_col and metrics:\n",
    "    display(df.groupby(country_col)[metrics].mean(numeric_only=True).sort_values(by=metrics[0], ascending=False).head(15))\n"
   ]
  },
  {
   "cell_type": "markdown",
   "id": "a94f6a91",
   "metadata": {},
   "source": [
    "## 6. Análisis y conclusiones (50%)\n",
    "\n",
    "Interpreta los resultados, responde las preguntas y propone recomendaciones.  \n",
    "Abajo se genera un **borrador** de hallazgos automáticos para que lo ajustes con tu criterio.\n"
   ]
  },
  {
   "cell_type": "code",
   "execution_count": null,
   "id": "25430996",
   "metadata": {},
   "outputs": [],
   "source": [
    "# === Borrador de conclusiones automáticas ===\n",
    "findings = []\n",
    "\n",
    "# Correlaciones destacadas\n",
    "if 'corr' in locals():\n",
    "    corr_copy = corr.copy()\n",
    "    corr_copy.values[np.tril_indices_from(corr_copy)] = np.nan\n",
    "    top = corr_copy.unstack().dropna().sort_values(ascending=False).head(5)\n",
    "    if not top.empty:\n",
    "        findings.append(\"**Top correlaciones (lineales) entre variables numéricas:**\")\n",
    "        for (a,b), v in top.items():\n",
    "            findings.append(f\"- {a} ↔ {b}: {v:.3f}\")\n",
    "\n",
    "# Industrias/países si existen\n",
    "def fm(aliases):\n",
    "    for col in df.columns:\n",
    "        for a in aliases:\n",
    "            if a in col:\n",
    "                return col\n",
    "    return None\n",
    "\n",
    "industry_col = fm([\"industry\",\"sector\"])\n",
    "country_col  = fm([\"country\"])\n",
    "mv_col       = fm([\"market_value\",\"market_cap\"])\n",
    "pm_col       = \"profit_margin\" if \"profit_margin\" in df.columns else None\n",
    "\n",
    "def top_group(colname, metric, k=5):\n",
    "    if colname and metric and colname in df.columns and metric in df.columns:\n",
    "        t = df.groupby(colname)[metric].mean(numeric_only=True).sort_values(ascending=False).head(k)\n",
    "        return t\n",
    "    return None\n",
    "\n",
    "if mv_col:\n",
    "    top_ind = top_group(industry_col, mv_col, 5)\n",
    "    top_cty = top_group(country_col, mv_col, 5)\n",
    "    if top_ind is not None and len(top_ind) > 0:\n",
    "        findings.append(f\"**Industrias con mayor {mv_col} promedio (Top 5):**\")\n",
    "        for idx, val in top_ind.items():\n",
    "            findings.append(f\"- {idx}: {val:,.2f}\")\n",
    "    if top_cty is not None and len(top_cty) > 0:\n",
    "        findings.append(f\"**Países con mayor {mv_col} promedio (Top 5):**\")\n",
    "        for idx, val in top_cty.items():\n",
    "            findings.append(f\"- {idx}: {val:,.2f}\")\n",
    "\n",
    "if pm_col and industry_col:\n",
    "    pm_ind = df.groupby(industry_col)[pm_col].mean(numeric_only=True).sort_values(ascending=False).head(5)\n",
    "    if len(pm_ind) > 0:\n",
    "        findings.append(\"**Industrias con mayor margen de utilidad promedio (Top 5):**\")\n",
    "        for idx, val in pm_ind.items():\n",
    "            findings.append(f\"- {idx}: {val:.2%}\")\n",
    "\n",
    "from IPython.display import Markdown\n",
    "Markdown(\"\\\\n\".join(findings) if findings else \"Agrega aquí tus conclusiones basadas en el análisis.\")\n"
   ]
  }
 ],
 "metadata": {
  "kernelspec": {
   "display_name": "base",
   "language": "python",
   "name": "python3"
  },
  "language_info": {
   "codemirror_mode": {
    "name": "ipython",
    "version": 3
   },
   "file_extension": ".py",
   "mimetype": "text/x-python",
   "name": "python",
   "nbconvert_exporter": "python",
   "pygments_lexer": "ipython3",
   "version": "3.12.3"
  }
 },
 "nbformat": 4,
 "nbformat_minor": 5
}
