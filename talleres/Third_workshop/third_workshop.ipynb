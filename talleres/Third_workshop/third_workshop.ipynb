{
 "cells": [
  {
   "cell_type": "markdown",
   "id": "2e057c67",
   "metadata": {},
   "source": [
    "# Forbes - The Global 2000 Companies - 2025\n",
    "Comprehensive financial insights into the world's top 2,000 companies"
   ]
  },
  {
   "cell_type": "markdown",
   "id": "c60ac703",
   "metadata": {},
   "source": [
    "## About Dataset\n",
    "\n",
    "For the 23rd year, Forbes’ Global 2000 ranks the largest public companies in the world using four metrics—sales, profits, assets and market value—and despite the geopolitical uncertainty and combativeness resulting from Donald Trump’s tariffs, all four reached records this year. The 2,000 companies on the 2025 list account for $52.9 trillion in annual revenue, $4.9 trillion in profit, $242.2 trillion in assets and $91.3 trillion in market cap.\n",
    "\n",
    "Those figures for profit, market value and assets have all at least tripled in the last 20 years, with total sales up 140% in that span, demonstrating how much globalization has helped the world grow, including the United States. America’s largest bank, JPMorgan, is ranked No. 1 for the third year in a row, leading 612 U.S.-based companies on the list.\n",
    "\n",
    "Tech giants like Amazon and Microsoft as well as international behemoths Saudi Aramco and the Industrial and Commercial Bank of China remain entrenched members of the top 10, while Nvidia continues its fast rise up the rankings to 47th this year. We used the latest 12 months of financial data available to us as of April 25, 2025 to calculate the factors used in our ranking."
   ]
  },
  {
   "cell_type": "code",
   "execution_count": 1,
   "id": "6b3d17ef",
   "metadata": {},
   "outputs": [],
   "source": [
    "import pandas\n",
    "import numpy"
   ]
  },
  {
   "cell_type": "code",
   "execution_count": null,
   "id": "dc1c18a6",
   "metadata": {},
   "outputs": [],
   "source": []
  }
 ],
 "metadata": {
  "kernelspec": {
   "display_name": "base",
   "language": "python",
   "name": "python3"
  },
  "language_info": {
   "codemirror_mode": {
    "name": "ipython",
    "version": 3
   },
   "file_extension": ".py",
   "mimetype": "text/x-python",
   "name": "python",
   "nbconvert_exporter": "python",
   "pygments_lexer": "ipython3",
   "version": "3.12.3"
  }
 },
 "nbformat": 4,
 "nbformat_minor": 5
}
